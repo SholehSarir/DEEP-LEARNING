{
  "nbformat": 4,
  "nbformat_minor": 0,
  "metadata": {
    "colab": {
      "name": "Intro_to_DL_01.ipynb",
      "provenance": [],
      "collapsed_sections": [],
      "include_colab_link": true
    },
    "kernelspec": {
      "name": "python3",
      "display_name": "Python 3"
    },
    "accelerator": "GPU"
  },
  "cells": [
    {
      "cell_type": "markdown",
      "metadata": {
        "id": "view-in-github",
        "colab_type": "text"
      },
      "source": [
        "<a href=\"https://colab.research.google.com/github/spahlavian/Intro-to-DL-with-fastai/blob/main/Intro_to_DL_01.ipynb\" target=\"_parent\"><img src=\"https://colab.research.google.com/assets/colab-badge.svg\" alt=\"Open In Colab\"/></a>"
      ]
    },
    {
      "cell_type": "code",
      "metadata": {
        "id": "1ihMhi17JjR6"
      },
      "source": [
        "\"\"\"\r\n",
        "~~~~~~~~~~~~~~~~~~~~~~~~~~~~~~~~~~~~~~~~~~~~~~~~~~~~~~~~~~~~~\r\n",
        "~~~~~~~ Practical Deep Learning tutorial -- Episode 1 ~~~~~~~\r\n",
        "~~~~~~~~~~~~~~~~~~~~~~~~~~~~~~~~~~~~~~~~~~~~~~~~~~~~~~~~~~~~~\r\n",
        "\r\n",
        "The example used in this notebook was adopted from the following book:\r\n",
        "Howard, Jeremy, and Sylvain Gugger. Deep Learning for \r\n",
        "Coders with fastai and PyTorch. O'Reilly Media, 2020.\r\n",
        "\r\n",
        "No licensing is required to use this code, but I will\r\n",
        "appreciate  if you reference Rational Machines\r\n",
        "IG page and/or YT channel:\r\n",
        "@rational_machines\r\n",
        "bit.ly/3rU7nKY\r\n",
        "\r\n",
        "-- Written by: Soroush Pahlavian - 2021\r\n",
        "\"\"\""
      ],
      "execution_count": null,
      "outputs": []
    },
    {
      "cell_type": "markdown",
      "metadata": {
        "id": "GlEUrTU-qlBP"
      },
      "source": [
        "Here are the libraries we need to run fastai. Let's install them using *pip* command :)\r\n",
        "\r\n"
      ]
    },
    {
      "cell_type": "code",
      "metadata": {
        "id": "bp3gVvgKqk2O"
      },
      "source": [
        "!pip install -Uqq fastbook\r\n",
        "import fastbook\r\n",
        "from fastbook import *"
      ],
      "execution_count": null,
      "outputs": []
    },
    {
      "cell_type": "markdown",
      "metadata": {
        "id": "4fEYy85I1xZT"
      },
      "source": [
        "Let's make a model to classify pet (cat/dog) images:\r\n",
        "\r\n"
      ]
    },
    {
      "cell_type": "code",
      "metadata": {
        "id": "4xcFhQJY2yGJ"
      },
      "source": [
        "from fastai.vision.all import *\r\n",
        "\r\n",
        "dest = '/content/DataML'\r\n",
        "path = untar_data (URLs.PETS, data=dest)/'images' \r\n",
        "def is_cat(x): return x[0].isupper() \r\n",
        "\r\n",
        "dls = ImageDataLoaders.from_name_func(\r\n",
        "    path=path, fnames=get_image_files(path),        \r\n",
        "    valid_pct=0.2, seed=42,\r\n",
        "    label_func=is_cat, item_tfms=Resize(224)\r\n",
        ")"
      ],
      "execution_count": null,
      "outputs": []
    },
    {
      "cell_type": "code",
      "metadata": {
        "id": "HPuB1VH9ZU43"
      },
      "source": [
        "learn = cnn_learner(dls, resnet34, metrics=error_rate)\r\n",
        "learn.fine_tune(1)"
      ],
      "execution_count": null,
      "outputs": []
    },
    {
      "cell_type": "markdown",
      "metadata": {
        "id": "Ifw0NeyHDGN9"
      },
      "source": [
        "Now, let's check the accuracy on our own photos:"
      ]
    },
    {
      "cell_type": "code",
      "metadata": {
        "id": "75nFrMR01yNj"
      },
      "source": [
        "uploader = widgets.FileUpload()\r\n",
        "uploader"
      ],
      "execution_count": null,
      "outputs": []
    },
    {
      "cell_type": "code",
      "metadata": {
        "id": "mXcRVDE_2Eds"
      },
      "source": [
        "img = PILImage.create(uploader.data[0])\r\n",
        "pred,_,_ = learn.predict(img)\r\n",
        "if pred == 'True': \r\n",
        "    print(f'Prediction: Cat')\r\n",
        "else: \r\n",
        "    print(f'Prediction: Dog')"
      ],
      "execution_count": null,
      "outputs": []
    }
  ]
}
