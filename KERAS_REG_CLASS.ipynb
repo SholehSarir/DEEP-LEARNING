{
 "cells": [
  {
   "cell_type": "code",
   "execution_count": 56,
   "id": "865f56f2-9332-4c96-a473-74aeb631290f",
   "metadata": {},
   "outputs": [],
   "source": [
    "import tensorflow as tf\n",
    "from tensorflow import keras\n",
    "from sklearn.datasets import fetch_california_housing\n",
    "from sklearn.model_selection import train_test_split\n",
    "from sklearn.preprocessing import StandardScaler\n",
    "from sklearn.model_selection import GridSearchCV"
   ]
  },
  {
   "cell_type": "code",
   "execution_count": 57,
   "id": "b800f14d-c1a1-478b-898f-fb6762f0ca75",
   "metadata": {},
   "outputs": [],
   "source": [
    "import matplotlib.pyplot as plt\n",
    "import numpy as np"
   ]
  },
  {
   "cell_type": "code",
   "execution_count": 58,
   "id": "fd9a1bd1-c65b-4c81-9a17-75b2cc4bc1b9",
   "metadata": {},
   "outputs": [
    {
     "data": {
      "text/plain": [
       "'2.14.0'"
      ]
     },
     "execution_count": 58,
     "metadata": {},
     "output_type": "execute_result"
    }
   ],
   "source": [
    "tf.__version__"
   ]
  },
  {
   "cell_type": "markdown",
   "id": "6c987b3a-61a0-4639-9cf7-2c14b7b39649",
   "metadata": {},
   "source": [
    "# Classification"
   ]
  },
  {
   "cell_type": "code",
   "execution_count": 59,
   "id": "b1c9edfb-326c-4ebd-bab4-ad14487cc3bf",
   "metadata": {},
   "outputs": [],
   "source": [
    "fmnist_data = keras.datasets.fashion_mnist"
   ]
  },
  {
   "cell_type": "code",
   "execution_count": 60,
   "id": "86c3ab9f-aa8b-4a39-9cf3-29b346e398cc",
   "metadata": {},
   "outputs": [],
   "source": [
    "(x_train, y_train), (x_test, y_test) = fmnist_data.load_data()"
   ]
  },
  {
   "cell_type": "code",
   "execution_count": 61,
   "id": "b88c74a9-c846-4f5c-89a4-f32846a6bc25",
   "metadata": {},
   "outputs": [
    {
     "data": {
      "text/plain": [
       "(60000, 28, 28)"
      ]
     },
     "execution_count": 61,
     "metadata": {},
     "output_type": "execute_result"
    }
   ],
   "source": [
    "x_train.shape"
   ]
  },
  {
   "cell_type": "code",
   "execution_count": 62,
   "id": "ff821769-4bea-4c01-b876-61f75a939922",
   "metadata": {},
   "outputs": [
    {
     "data": {
      "text/plain": [
       "(10000, 28, 28)"
      ]
     },
     "execution_count": 62,
     "metadata": {},
     "output_type": "execute_result"
    }
   ],
   "source": [
    "x_test.shape"
   ]
  },
  {
   "cell_type": "code",
   "execution_count": 63,
   "id": "fe57a9c6-d427-4b10-b5e3-cf56d9d683c0",
   "metadata": {},
   "outputs": [
    {
     "data": {
      "text/plain": [
       "(60000,)"
      ]
     },
     "execution_count": 63,
     "metadata": {},
     "output_type": "execute_result"
    }
   ],
   "source": [
    "y_train.shape"
   ]
  },
  {
   "cell_type": "code",
   "execution_count": 64,
   "id": "db835ff6-472f-40e2-a279-0aa53c385c10",
   "metadata": {},
   "outputs": [
    {
     "data": {
      "text/plain": [
       "array([9, 0, 0, 3, 0, 2, 7, 2, 5, 5], dtype=uint8)"
      ]
     },
     "execution_count": 64,
     "metadata": {},
     "output_type": "execute_result"
    }
   ],
   "source": [
    "y_train[:10]"
   ]
  },
  {
   "cell_type": "code",
   "execution_count": 65,
   "id": "a4dd6dd1-d4bd-4c5e-93a4-20f534ee0fcb",
   "metadata": {},
   "outputs": [
    {
     "data": {
      "text/plain": [
       "<matplotlib.image.AxesImage at 0x2031a4e4460>"
      ]
     },
     "execution_count": 65,
     "metadata": {},
     "output_type": "execute_result"
    },
    {
     "data": {
      "image/png": "[encoded data removed]",
      "text/plain": [
       "<Figure size 640x480 with 1 Axes>"
      ]
     },
     "metadata": {},
     "output_type": "display_data"
    }
   ],
   "source": [
    "plt.imshow(x_train[0,], cmap=\"gray\")"
   ]
  },
  {
   "cell_type": "code",
   "execution_count": 66,
   "id": "187dc581-5c27-486c-be8c-e77925d1948b",
   "metadata": {},
   "outputs": [],
   "source": [
    "x_train, x_test = x_train/255.0, x_test/255.0"
   ]
  },
  {
   "cell_type": "code",
   "execution_count": 67,
   "id": "fc4cf3af-02e9-4e29-aede-71c3bf638b4f",
   "metadata": {},
   "outputs": [
    {
     "data": {
      "text/plain": [
       "(60000, 28, 28)"
      ]
     },
     "execution_count": 67,
     "metadata": {},
     "output_type": "execute_result"
    }
   ],
   "source": [
    "x_train.shape"
   ]
  },
  {
   "cell_type": "code",
   "execution_count": 68,
   "id": "0dd36b28-340d-4e2d-a73d-2746e411daae",
   "metadata": {},
   "outputs": [],
   "source": [
    "model = keras.models.Sequential()\n",
    "model.add(keras.layers.Flatten(input_shape=[28, 28]))\n",
    "model.add(keras.layers.Dense(100, activation=\"relu\"))\n",
    "model.add(keras.layers.Dense(75, activation=\"relu\"))\n",
    "model.add(keras.layers.Dense(10, activation=\"softmax\"))"
   ]
  },
  {
   "cell_type": "markdown",
   "id": "f5ac2135-d9ca-4e45-a2b8-585891173466",
   "metadata": {},
   "source": [
    "# Define Model "
   ]
  },
  {
   "cell_type": "code",
   "execution_count": 69,
   "id": "256c9c7a-c7d7-4cb4-890e-245649c0c1d2",
   "metadata": {},
   "outputs": [],
   "source": [
    "model = keras.models.Sequential([\n",
    "    keras.layers.Flatten(input_shape=[28, 28]),\n",
    "    keras.layers.Dense(100, activation=\"relu\"),\n",
    "    keras.layers.Dense(75, activation=\"relu\"),\n",
    "    keras.layers.Dense(10, activation=\"softmax\")\n",
    "])"
   ]
  },
  {
   "cell_type": "code",
   "execution_count": 70,
   "id": "e739c031-8f84-4c60-98b4-e9aaf6eb78e4",
   "metadata": {},
   "outputs": [
    {
     "name": "stdout",
     "output_type": "stream",
     "text": [
      "Model: \"sequential_4\"\n",
      "_________________________________________________________________\n",
      " Layer (type)                Output Shape              Param #   \n",
      "=================================================================\n",
      " flatten_3 (Flatten)         (None, 784)               0         \n",
      "                                                                 \n",
      " dense_21 (Dense)            (None, 100)               78500     \n",
      "                                                                 \n",
      " dense_22 (Dense)            (None, 75)                7575      \n",
      "                                                                 \n",
      " dense_23 (Dense)            (None, 10)                760       \n",
      "                                                                 \n",
      "=================================================================\n",
      "Total params: 86835 (339.20 KB)\n",
      "Trainable params: 86835 (339.20 KB)\n",
      "Non-trainable params: 0 (0.00 Byte)\n",
      "_________________________________________________________________\n"
     ]
    }
   ],
   "source": [
    "model.summary()"
   ]
  },
  {
   "cell_type": "code",
   "execution_count": 71,
   "id": "8c3e1892-388f-4dd3-bfc0-6c02b8285c16",
   "metadata": {},
   "outputs": [
    {
     "data": {
      "text/plain": [
       "[<keras.src.layers.reshaping.flatten.Flatten at 0x2031a4e41f0>,\n",
       " <keras.src.layers.core.dense.Dense at 0x2031c5ff940>,\n",
       " <keras.src.layers.core.dense.Dense at 0x2031c5fc940>,\n",
       " <keras.src.layers.core.dense.Dense at 0x2031c5fefe0>]"
      ]
     },
     "execution_count": 71,
     "metadata": {},
     "output_type": "execute_result"
    }
   ],
   "source": [
    "model.layers"
   ]
  },
  {
   "cell_type": "code",
   "execution_count": 72,
   "id": "49b84731-b4d2-4be1-88f4-c4093483afd8",
   "metadata": {},
   "outputs": [],
   "source": [
    "weights, bias = model.layers[1].get_weights()"
   ]
  },
  {
   "cell_type": "code",
   "execution_count": 73,
   "id": "30b270b7-e808-406d-9e9c-260a6faf28d4",
   "metadata": {},
   "outputs": [
    {
     "data": {
      "text/plain": [
       "array([[ 0.01791196,  0.02081484,  0.08163342, ..., -0.05444609,\n",
       "        -0.05482383,  0.07080835],\n",
       "       [-0.00612928, -0.02024156,  0.01084352, ..., -0.00413562,\n",
       "         0.04541761,  0.08169907],\n",
       "       [-0.07335846,  0.01054297,  0.04249068, ..., -0.00769141,\n",
       "         0.01577237,  0.00530303],\n",
       "       ...,\n",
       "       [ 0.02875923, -0.04055744, -0.06659829, ..., -0.01151861,\n",
       "         0.07493274,  0.0720215 ],\n",
       "       [ 0.06941354,  0.07882823, -0.0331161 , ..., -0.00860357,\n",
       "        -0.01453238,  0.00413698],\n",
       "       [ 0.05518581,  0.06245217, -0.00285228, ..., -0.04971759,\n",
       "         0.02670829, -0.01819094]], dtype=float32)"
      ]
     },
     "execution_count": 73,
     "metadata": {},
     "output_type": "execute_result"
    }
   ],
   "source": [
    "weights"
   ]
  },
  {
   "cell_type": "code",
   "execution_count": 74,
   "id": "375acadf-cfaa-494a-a314-0b3f0c762c16",
   "metadata": {},
   "outputs": [
    {
     "data": {
      "text/plain": [
       "array([0., 0., 0., 0., 0., 0., 0., 0., 0., 0., 0., 0., 0., 0., 0., 0., 0.,\n",
       "       0., 0., 0., 0., 0., 0., 0., 0., 0., 0., 0., 0., 0., 0., 0., 0., 0.,\n",
       "       0., 0., 0., 0., 0., 0., 0., 0., 0., 0., 0., 0., 0., 0., 0., 0., 0.,\n",
       "       0., 0., 0., 0., 0., 0., 0., 0., 0., 0., 0., 0., 0., 0., 0., 0., 0.,\n",
       "       0., 0., 0., 0., 0., 0., 0., 0., 0., 0., 0., 0., 0., 0., 0., 0., 0.,\n",
       "       0., 0., 0., 0., 0., 0., 0., 0., 0., 0., 0., 0., 0., 0., 0.],\n",
       "      dtype=float32)"
      ]
     },
     "execution_count": 74,
     "metadata": {},
     "output_type": "execute_result"
    }
   ],
   "source": [
    "bias"
   ]
  },
  {
   "cell_type": "markdown",
   "id": "f33d5157-bce2-4244-81f5-4eb77a0432f4",
   "metadata": {},
   "source": [
    "# Compile Model"
   ]
  },
  {
   "cell_type": "code",
   "execution_count": 75,
   "id": "df70f038-6509-4cfd-bb9e-e378ee3a5d9f",
   "metadata": {},
   "outputs": [],
   "source": [
    "model.compile(loss=\"sparse_categorical_crossentropy\",\n",
    "              optimizer=\"sgd\",\n",
    "              metrics=[\"accuracy\"])"
   ]
  },
  {
   "cell_type": "markdown",
   "id": "b216f3b6-10b2-48b2-ad38-9ae76d4843a6",
   "metadata": {},
   "source": [
    "# Fit Model"
   ]
  },
  {
   "cell_type": "code",
   "execution_count": 76,
   "id": "2dc38a75-d238-4438-b6ae-340f2dd1d44b",
   "metadata": {},
   "outputs": [
    {
     "name": "stdout",
     "output_type": "stream",
     "text": [
      "Epoch 1/50\n",
      "1594/1594 [==============================] - 10s 6ms/step - loss: 0.7969 - accuracy: 0.7365 - val_loss: 0.5593 - val_accuracy: 0.8036\n",
      "Epoch 2/50\n",
      "1594/1594 [==============================] - 8s 5ms/step - loss: 0.5093 - accuracy: 0.8240 - val_loss: 0.5070 - val_accuracy: 0.8158\n",
      "Epoch 3/50\n",
      "1594/1594 [==============================] - 8s 5ms/step - loss: 0.4596 - accuracy: 0.8391 - val_loss: 0.4574 - val_accuracy: 0.8421\n",
      "Epoch 4/50\n",
      "1594/1594 [==============================] - 9s 6ms/step - loss: 0.4320 - accuracy: 0.8488 - val_loss: 0.4413 - val_accuracy: 0.8450\n",
      "Epoch 5/50\n",
      "1594/1594 [==============================] - 9s 6ms/step - loss: 0.4120 - accuracy: 0.8558 - val_loss: 0.4324 - val_accuracy: 0.8466\n",
      "Epoch 6/50\n",
      "1594/1594 [==============================] - 10s 6ms/step - loss: 0.3956 - accuracy: 0.8621 - val_loss: 0.4188 - val_accuracy: 0.8547\n",
      "Epoch 7/50\n",
      "1594/1594 [==============================] - 9s 6ms/step - loss: 0.3816 - accuracy: 0.8660 - val_loss: 0.3906 - val_accuracy: 0.8616\n",
      "Epoch 8/50\n",
      "1594/1594 [==============================] - 9s 5ms/step - loss: 0.3700 - accuracy: 0.8696 - val_loss: 0.3830 - val_accuracy: 0.8636\n",
      "Epoch 9/50\n",
      "1594/1594 [==============================] - 10s 6ms/step - loss: 0.3597 - accuracy: 0.8732 - val_loss: 0.3809 - val_accuracy: 0.8679\n",
      "Epoch 10/50\n",
      "1594/1594 [==============================] - 10s 6ms/step - loss: 0.3512 - accuracy: 0.8747 - val_loss: 0.3815 - val_accuracy: 0.8669\n",
      "Epoch 11/50\n",
      "1594/1594 [==============================] - 10s 6ms/step - loss: 0.3427 - accuracy: 0.8782 - val_loss: 0.3684 - val_accuracy: 0.8701\n",
      "Epoch 12/50\n",
      "1594/1594 [==============================] - 9s 6ms/step - loss: 0.3356 - accuracy: 0.8811 - val_loss: 0.3599 - val_accuracy: 0.8737\n",
      "Epoch 13/50\n",
      "1594/1594 [==============================] - 9s 6ms/step - loss: 0.3291 - accuracy: 0.8827 - val_loss: 0.3887 - val_accuracy: 0.8582\n",
      "Epoch 14/50\n",
      "1594/1594 [==============================] - 9s 6ms/step - loss: 0.3220 - accuracy: 0.8848 - val_loss: 0.3805 - val_accuracy: 0.8637\n",
      "Epoch 15/50\n",
      "1594/1594 [==============================] - 9s 5ms/step - loss: 0.3159 - accuracy: 0.8868 - val_loss: 0.3535 - val_accuracy: 0.8747\n",
      "Epoch 16/50\n",
      "1594/1594 [==============================] - 10s 6ms/step - loss: 0.3098 - accuracy: 0.8885 - val_loss: 0.3449 - val_accuracy: 0.8783\n",
      "Epoch 17/50\n",
      "1594/1594 [==============================] - 9s 5ms/step - loss: 0.3053 - accuracy: 0.8905 - val_loss: 0.3520 - val_accuracy: 0.8739\n",
      "Epoch 18/50\n",
      "1594/1594 [==============================] - 9s 6ms/step - loss: 0.2993 - accuracy: 0.8927 - val_loss: 0.3604 - val_accuracy: 0.8719\n",
      "Epoch 19/50\n",
      "1594/1594 [==============================] - 8s 5ms/step - loss: 0.2953 - accuracy: 0.8943 - val_loss: 0.3385 - val_accuracy: 0.8806\n",
      "Epoch 20/50\n",
      "1594/1594 [==============================] - 9s 6ms/step - loss: 0.2897 - accuracy: 0.8968 - val_loss: 0.3364 - val_accuracy: 0.8798\n",
      "Epoch 21/50\n",
      "1594/1594 [==============================] - 10s 6ms/step - loss: 0.2856 - accuracy: 0.8978 - val_loss: 0.3350 - val_accuracy: 0.8804\n",
      "Epoch 22/50\n",
      "1594/1594 [==============================] - 8s 5ms/step - loss: 0.2807 - accuracy: 0.8993 - val_loss: 0.3454 - val_accuracy: 0.8754\n",
      "Epoch 23/50\n",
      "1594/1594 [==============================] - 10s 6ms/step - loss: 0.2765 - accuracy: 0.8998 - val_loss: 0.3312 - val_accuracy: 0.8816\n",
      "Epoch 24/50\n",
      "1594/1594 [==============================] - 9s 6ms/step - loss: 0.2732 - accuracy: 0.9011 - val_loss: 0.3382 - val_accuracy: 0.8821\n",
      "Epoch 25/50\n",
      "1594/1594 [==============================] - 9s 6ms/step - loss: 0.2693 - accuracy: 0.9039 - val_loss: 0.3522 - val_accuracy: 0.8766\n",
      "Epoch 26/50\n",
      "1594/1594 [==============================] - 9s 6ms/step - loss: 0.2656 - accuracy: 0.9035 - val_loss: 0.3295 - val_accuracy: 0.8850\n",
      "Epoch 27/50\n",
      "1594/1594 [==============================] - 9s 6ms/step - loss: 0.2624 - accuracy: 0.9050 - val_loss: 0.3387 - val_accuracy: 0.8804\n",
      "Epoch 28/50\n",
      "1594/1594 [==============================] - 9s 6ms/step - loss: 0.2586 - accuracy: 0.9066 - val_loss: 0.3428 - val_accuracy: 0.8787\n",
      "Epoch 29/50\n",
      "1594/1594 [==============================] - 9s 5ms/step - loss: 0.2551 - accuracy: 0.9080 - val_loss: 0.3370 - val_accuracy: 0.8808\n",
      "Epoch 30/50\n",
      "1594/1594 [==============================] - 9s 6ms/step - loss: 0.2519 - accuracy: 0.9087 - val_loss: 0.3247 - val_accuracy: 0.8871\n",
      "Epoch 31/50\n",
      "1594/1594 [==============================] - 9s 6ms/step - loss: 0.2487 - accuracy: 0.9094 - val_loss: 0.3220 - val_accuracy: 0.8866\n",
      "Epoch 32/50\n",
      "1594/1594 [==============================] - 9s 6ms/step - loss: 0.2450 - accuracy: 0.9108 - val_loss: 0.3290 - val_accuracy: 0.8840\n",
      "Epoch 33/50\n",
      "1594/1594 [==============================] - 9s 6ms/step - loss: 0.2411 - accuracy: 0.9132 - val_loss: 0.3259 - val_accuracy: 0.8849\n",
      "Epoch 34/50\n",
      "1594/1594 [==============================] - 9s 6ms/step - loss: 0.2395 - accuracy: 0.9137 - val_loss: 0.3328 - val_accuracy: 0.8831\n",
      "Epoch 35/50\n",
      "1594/1594 [==============================] - 9s 6ms/step - loss: 0.2360 - accuracy: 0.9147 - val_loss: 0.3284 - val_accuracy: 0.8850\n",
      "Epoch 36/50\n",
      "1594/1594 [==============================] - 9s 6ms/step - loss: 0.2333 - accuracy: 0.9151 - val_loss: 0.3425 - val_accuracy: 0.8808\n",
      "Epoch 37/50\n",
      "1594/1594 [==============================] - 9s 6ms/step - loss: 0.2308 - accuracy: 0.9168 - val_loss: 0.3281 - val_accuracy: 0.8863\n",
      "Epoch 38/50\n",
      "1594/1594 [==============================] - 9s 6ms/step - loss: 0.2272 - accuracy: 0.9185 - val_loss: 0.3229 - val_accuracy: 0.8870\n",
      "Epoch 39/50\n",
      "1594/1594 [==============================] - 9s 6ms/step - loss: 0.2253 - accuracy: 0.9185 - val_loss: 0.3364 - val_accuracy: 0.8801\n",
      "Epoch 40/50\n",
      "1594/1594 [==============================] - 9s 6ms/step - loss: 0.2227 - accuracy: 0.9192 - val_loss: 0.3329 - val_accuracy: 0.8846\n",
      "Epoch 41/50\n",
      "1594/1594 [==============================] - 9s 6ms/step - loss: 0.2191 - accuracy: 0.9205 - val_loss: 0.3235 - val_accuracy: 0.8847\n",
      "Epoch 42/50\n",
      "1594/1594 [==============================] - 9s 6ms/step - loss: 0.2174 - accuracy: 0.9220 - val_loss: 0.3494 - val_accuracy: 0.8811\n",
      "Epoch 43/50\n",
      "1594/1594 [==============================] - 9s 6ms/step - loss: 0.2152 - accuracy: 0.9223 - val_loss: 0.3471 - val_accuracy: 0.8794\n",
      "Epoch 44/50\n",
      "1594/1594 [==============================] - 9s 6ms/step - loss: 0.2127 - accuracy: 0.9234 - val_loss: 0.3209 - val_accuracy: 0.8880\n",
      "Epoch 45/50\n",
      "1594/1594 [==============================] - 9s 6ms/step - loss: 0.2104 - accuracy: 0.9235 - val_loss: 0.3514 - val_accuracy: 0.8800\n",
      "Epoch 46/50\n",
      "1594/1594 [==============================] - 9s 6ms/step - loss: 0.2070 - accuracy: 0.9256 - val_loss: 0.3304 - val_accuracy: 0.8876\n",
      "Epoch 47/50\n",
      "1594/1594 [==============================] - 9s 6ms/step - loss: 0.2039 - accuracy: 0.9269 - val_loss: 0.3254 - val_accuracy: 0.8893\n",
      "Epoch 48/50\n",
      "1594/1594 [==============================] - 9s 6ms/step - loss: 0.2027 - accuracy: 0.9266 - val_loss: 0.3243 - val_accuracy: 0.8909\n",
      "Epoch 49/50\n",
      "1594/1594 [==============================] - 9s 6ms/step - loss: 0.2010 - accuracy: 0.9269 - val_loss: 0.3259 - val_accuracy: 0.8862\n",
      "Epoch 50/50\n",
      "1594/1594 [==============================] - 9s 6ms/step - loss: 0.1979 - accuracy: 0.9288 - val_loss: 0.3567 - val_accuracy: 0.8800\n"
     ]
    }
   ],
   "source": [
    "history = model.fit(x_train, y_train, epochs=50, validation_split=0.15)"
   ]
  },
  {
   "cell_type": "code",
   "execution_count": 77,
   "id": "6f3b0a33-04fa-4664-9159-704f631e80b4",
   "metadata": {},
   "outputs": [
    {
     "name": "stdout",
     "output_type": "stream",
     "text": [
      "{'loss': [0.7969138622283936, 0.5092693567276001, 0.45963895320892334, 0.4319581389427185, 0.4119732677936554, 0.39559492468833923, 0.38158926367759705, 0.36999696493148804, 0.3597462773323059, 0.3512130379676819, 0.3427433371543884, 0.335600882768631, 0.32908162474632263, 0.3220192492008209, 0.31586968898773193, 0.3098200261592865, 0.3053467273712158, 0.29932424426078796, 0.2953249514102936, 0.28966039419174194, 0.28556105494499207, 0.28074416518211365, 0.27650365233421326, 0.2731718420982361, 0.2693406641483307, 0.2655715048313141, 0.26236775517463684, 0.2585931122303009, 0.2550574839115143, 0.2518901824951172, 0.24865691363811493, 0.24503923952579498, 0.24109244346618652, 0.2394506335258484, 0.23601120710372925, 0.23328185081481934, 0.2308204472064972, 0.2271752506494522, 0.22531282901763916, 0.222736194729805, 0.21912556886672974, 0.2173856794834137, 0.21523119509220123, 0.2126721292734146, 0.2104244828224182, 0.20702943205833435, 0.20385541021823883, 0.20270879566669464, 0.20103269815444946, 0.1978660374879837], 'accuracy': [0.7364901900291443, 0.8240000009536743, 0.8390980362892151, 0.848784327507019, 0.855803906917572, 0.8621372580528259, 0.8660392165184021, 0.8696078658103943, 0.8731568455696106, 0.8747059106826782, 0.8782156705856323, 0.8811176419258118, 0.8826862573623657, 0.8847843408584595, 0.886803925037384, 0.8884902000427246, 0.8904901742935181, 0.8927254676818848, 0.8943137526512146, 0.8968431353569031, 0.8978039026260376, 0.8992745280265808, 0.8997843265533447, 0.9010784029960632, 0.9039019346237183, 0.9035490155220032, 0.9049608111381531, 0.9066078662872314, 0.9079607725143433, 0.9087058901786804, 0.9093725681304932, 0.9108431339263916, 0.9131960868835449, 0.9137058854103088, 0.9147254824638367, 0.9151372313499451, 0.9168235063552856, 0.9185490012168884, 0.9184509515762329, 0.9191960692405701, 0.9204705953598022, 0.9220392107963562, 0.9222549200057983, 0.9233921766281128, 0.9234901666641235, 0.9256078600883484, 0.926921546459198, 0.926588237285614, 0.9269019365310669, 0.9288039207458496], 'val_loss': [0.5592636466026306, 0.5070070624351501, 0.45741087198257446, 0.44126415252685547, 0.43242424726486206, 0.418757826089859, 0.39055386185646057, 0.3829534649848938, 0.3808797001838684, 0.3815201222896576, 0.3684181272983551, 0.35992199182510376, 0.38867300748825073, 0.38051924109458923, 0.35352301597595215, 0.3448508381843567, 0.3520016074180603, 0.36041033267974854, 0.33847111463546753, 0.3364226222038269, 0.33500760793685913, 0.3454452455043793, 0.3312147855758667, 0.3381541669368744, 0.3522034287452698, 0.3294678330421448, 0.3387294113636017, 0.34276488423347473, 0.33702510595321655, 0.3246937692165375, 0.32200711965560913, 0.3290393352508545, 0.3259058892726898, 0.3327843248844147, 0.32837602496147156, 0.34246402978897095, 0.32806819677352905, 0.32286766171455383, 0.33643293380737305, 0.33294567465782166, 0.32351505756378174, 0.34941020607948303, 0.3471265733242035, 0.32094308733940125, 0.3514029383659363, 0.3304169774055481, 0.32536911964416504, 0.32434049248695374, 0.3259211778640747, 0.35669824481010437], 'val_accuracy': [0.8035555481910706, 0.8157777786254883, 0.8421111106872559, 0.8450000286102295, 0.8465555310249329, 0.8546666502952576, 0.8615555763244629, 0.8635555505752563, 0.867888867855072, 0.8668888807296753, 0.8701111078262329, 0.8736666440963745, 0.858222246170044, 0.8636666536331177, 0.874666690826416, 0.878333330154419, 0.8738889098167419, 0.8718888759613037, 0.8805555701255798, 0.8797777891159058, 0.8804444670677185, 0.8754444718360901, 0.8815555572509766, 0.882111132144928, 0.8765555620193481, 0.8849999904632568, 0.8804444670677185, 0.8786666393280029, 0.8807777762413025, 0.8871111273765564, 0.886555552482605, 0.8840000033378601, 0.8848888874053955, 0.8831111192703247, 0.8849999904632568, 0.8807777762413025, 0.8863333463668823, 0.8870000243186951, 0.8801110982894897, 0.8845555782318115, 0.8846666812896729, 0.8811110854148865, 0.879444420337677, 0.8880000114440918, 0.8799999952316284, 0.8875555396080017, 0.8893333077430725, 0.8908888697624207, 0.886222243309021, 0.8799999952316284]}\n"
     ]
    }
   ],
   "source": [
    "print(history.history)"
   ]
  },
  {
   "cell_type": "code",
   "execution_count": 78,
   "id": "171f2d8b-b5d9-43da-909f-6c43e8e362d6",
   "metadata": {
    "jp-MarkdownHeadingCollapsed": true,
    "tags": []
   },
   "outputs": [
    {
     "data": {
      "text/plain": [
       "<matplotlib.legend.Legend at 0x2031c7227d0>"
      ]
     },
     "execution_count": 78,
     "metadata": {},
     "output_type": "execute_result"
    },
    {
     "data": {
      "image/png": "[encoded data removed]",
      "text/plain": [
       "<Figure size 1200x500 with 1 Axes>"
      ]
     },
     "metadata": {},
     "output_type": "display_data"
    }
   ],
   "source": [
    "fig, ax = plt.subplots(figsize=(12, 5))\n",
    "ax.plot(history.history[\"loss\"], label=\"train loss\")\n",
    "ax.plot(history.history[\"accuracy\"], label=\"train accuracy\")\n",
    "ax.plot(history.history[\"val_loss\"], label=\"validation loss\")\n",
    "ax.plot(history.history[\"val_accuracy\"], label=\"validation accuracy\")\n",
    "ax.legend()"
   ]
  },
  {
   "cell_type": "code",
   "execution_count": 79,
   "id": "16b4c921-0f86-4a97-b6f1-74e8e097f3af",
   "metadata": {},
   "outputs": [
    {
     "data": {
      "text/plain": [
       "[0.366352379322052, 0.8715999722480774]"
      ]
     },
     "execution_count": 79,
     "metadata": {},
     "output_type": "execute_result"
    }
   ],
   "source": [
    "model.evaluate(x_test, y_test, verbose=0)"
   ]
  },
  {
   "cell_type": "code",
   "execution_count": 80,
   "id": "9f82e205-0802-4a42-8b5a-85f7c8489372",
   "metadata": {},
   "outputs": [
    {
     "data": {
      "text/plain": [
       "(2, 28, 28)"
      ]
     },
     "execution_count": 80,
     "metadata": {},
     "output_type": "execute_result"
    }
   ],
   "source": [
    "x3 = x_test[1:3,:,:]\n",
    "x3.shape"
   ]
  },
  {
   "cell_type": "code",
   "execution_count": 81,
   "id": "be7f72d5-7abf-4ae8-9088-2621f2394995",
   "metadata": {},
   "outputs": [
    {
     "data": {
      "text/plain": [
       "<matplotlib.image.AxesImage at 0x2031cc19420>"
      ]
     },
     "execution_count": 81,
     "metadata": {},
     "output_type": "execute_result"
    },
    {
     "data": {
      "image/png": "[encoded data removed]",
      "text/plain": [
       "<Figure size 640x480 with 1 Axes>"
      ]
     },
     "metadata": {},
     "output_type": "display_data"
    }
   ],
   "source": [
    "plt.imshow(x3[0], cmap=\"gray\")"
   ]
  },
  {
   "cell_type": "code",
   "execution_count": 82,
   "id": "8e2b070f-b55f-4f8c-ab07-b5d9b28b7d84",
   "metadata": {},
   "outputs": [
    {
     "name": "stdout",
     "output_type": "stream",
     "text": [
      "1/1 [==============================] - 0s 470ms/step\n"
     ]
    },
    {
     "data": {
      "text/plain": [
       "array([[0.   , 0.   , 0.999, 0.   , 0.001, 0.   , 0.   , 0.   , 0.   ,\n",
       "        0.   ],\n",
       "       [0.   , 1.   , 0.   , 0.   , 0.   , 0.   , 0.   , 0.   , 0.   ,\n",
       "        0.   ]], dtype=float32)"
      ]
     },
     "execution_count": 82,
     "metadata": {},
     "output_type": "execute_result"
    }
   ],
   "source": [
    "model.predict(x3).round(3)"
   ]
  },
  {
   "cell_type": "code",
   "execution_count": 83,
   "id": "451daf18-ba7e-477d-93aa-2ba6610384c1",
   "metadata": {},
   "outputs": [
    {
     "name": "stdout",
     "output_type": "stream",
     "text": [
      "1/1 [==============================] - 0s 33ms/step\n"
     ]
    },
    {
     "data": {
      "text/plain": [
       "(2, 10)"
      ]
     },
     "execution_count": 83,
     "metadata": {},
     "output_type": "execute_result"
    }
   ],
   "source": [
    "model.predict(x3).shape"
   ]
  },
  {
   "cell_type": "code",
   "execution_count": 84,
   "id": "41d2e79e-ba2c-40c7-9879-9fbfd2f82f8c",
   "metadata": {},
   "outputs": [
    {
     "name": "stdout",
     "output_type": "stream",
     "text": [
      "1/1 [==============================] - 0s 34ms/step\n"
     ]
    },
    {
     "data": {
      "text/plain": [
       "array([2, 1], dtype=int64)"
      ]
     },
     "execution_count": 84,
     "metadata": {},
     "output_type": "execute_result"
    }
   ],
   "source": [
    "np.argmax(model.predict(x3).round(3), axis=1)"
   ]
  },
  {
   "cell_type": "code",
   "execution_count": 85,
   "id": "d026226f-120d-48fd-b1ba-be9d0dbd285e",
   "metadata": {},
   "outputs": [
    {
     "data": {
      "text/plain": [
       "array([2, 1], dtype=uint8)"
      ]
     },
     "execution_count": 85,
     "metadata": {},
     "output_type": "execute_result"
    }
   ],
   "source": [
    "y_test[1:3]"
   ]
  },
  {
   "cell_type": "markdown",
   "id": "867f7d09-b0c0-4884-8dcd-c8c19ef9b635",
   "metadata": {},
   "source": [
    "# Regression"
   ]
  },
  {
   "cell_type": "code",
   "execution_count": 86,
   "id": "3f0c573c-a200-4f2d-ae03-bb1596179d09",
   "metadata": {},
   "outputs": [
    {
     "data": {
      "text/plain": [
       "{'data': array([[   8.3252    ,   41.        ,    6.98412698, ...,    2.55555556,\n",
       "           37.88      , -122.23      ],\n",
       "        [   8.3014    ,   21.        ,    6.23813708, ...,    2.10984183,\n",
       "           37.86      , -122.22      ],\n",
       "        [   7.2574    ,   52.        ,    8.28813559, ...,    2.80225989,\n",
       "           37.85      , -122.24      ],\n",
       "        ...,\n",
       "        [   1.7       ,   17.        ,    5.20554273, ...,    2.3256351 ,\n",
       "           39.43      , -121.22      ],\n",
       "        [   1.8672    ,   18.        ,    5.32951289, ...,    2.12320917,\n",
       "           39.43      , -121.32      ],\n",
       "        [   2.3886    ,   16.        ,    5.25471698, ...,    2.61698113,\n",
       "           39.37      , -121.24      ]]),\n",
       " 'target': array([4.526, 3.585, 3.521, ..., 0.923, 0.847, 0.894]),\n",
       " 'frame': None,\n",
       " 'target_names': ['MedHouseVal'],\n",
       " 'feature_names': ['MedInc',\n",
       "  'HouseAge',\n",
       "  'AveRooms',\n",
       "  'AveBedrms',\n",
       "  'Population',\n",
       "  'AveOccup',\n",
       "  'Latitude',\n",
       "  'Longitude'],\n",
       " 'DESCR': '.. _california_housing_dataset:\\n\\nCalifornia Housing dataset\\n--------------------------\\n\\n**Data Set Characteristics:**\\n\\n    :Number of Instances: 20640\\n\\n    :Number of Attributes: 8 numeric, predictive attributes and the target\\n\\n    :Attribute Information:\\n        - MedInc        median income in block group\\n        - HouseAge      median house age in block group\\n        - AveRooms      average number of rooms per household\\n        - AveBedrms     average number of bedrooms per household\\n        - Population    block group population\\n        - AveOccup      average number of household members\\n        - Latitude      block group latitude\\n        - Longitude     block group longitude\\n\\n    :Missing Attribute Values: None\\n\\nThis dataset was obtained from the StatLib repository.\\nhttps://www.dcc.fc.up.pt/~ltorgo/Regression/cal_housing.html\\n\\nThe target variable is the median house value for California districts,\\nexpressed in hundreds of thousands of dollars ($100,000).\\n\\nThis dataset was derived from the 1990 U.S. census, using one row per census\\nblock group. A block group is the smallest geographical unit for which the U.S.\\nCensus Bureau publishes sample data (a block group typically has a population\\nof 600 to 3,000 people).\\n\\nA household is a group of people residing within a home. Since the average\\nnumber of rooms and bedrooms in this dataset are provided per household, these\\ncolumns may take surprisingly large values for block groups with few households\\nand many empty houses, such as vacation resorts.\\n\\nIt can be downloaded/loaded using the\\n:func:`sklearn.datasets.fetch_california_housing` function.\\n\\n.. topic:: References\\n\\n    - Pace, R. Kelley and Ronald Barry, Sparse Spatial Autoregressions,\\n      Statistics and Probability Letters, 33 (1997) 291-297\\n'}"
      ]
     },
     "execution_count": 86,
     "metadata": {},
     "output_type": "execute_result"
    }
   ],
   "source": [
    "california_housing = fetch_california_housing()\n",
    "california_housing"
   ]
  },
  {
   "cell_type": "code",
   "execution_count": 87,
   "id": "9d194572-dc02-4df7-9758-d79311ab5b27",
   "metadata": {},
   "outputs": [],
   "source": [
    "X_train0, X_test, y_train0, y_test = train_test_split(\n",
    "                 california_housing[\"data\"],\n",
    "                 california_housing[\"target\"])"
   ]
  },
  {
   "cell_type": "code",
   "execution_count": 88,
   "id": "984b230c-9740-47d0-a06d-35b532d4d69c",
   "metadata": {},
   "outputs": [],
   "source": [
    "X_train1, X_validation, y_train1, y_validation = train_test_split(X_train0,\n",
    "                                                                  y_train0)"
   ]
  },
  {
   "cell_type": "code",
   "execution_count": 89,
   "id": "ec3c8236-f96a-40e7-8473-6c3a0e8ea428",
   "metadata": {},
   "outputs": [
    {
     "data": {
      "text/plain": [
       "(5160, 8)"
      ]
     },
     "execution_count": 89,
     "metadata": {},
     "output_type": "execute_result"
    }
   ],
   "source": [
    "X_test.shape"
   ]
  },
  {
   "cell_type": "code",
   "execution_count": 90,
   "id": "d68f7c87-aabb-46fc-9f1c-0fdeb30b9357",
   "metadata": {},
   "outputs": [
    {
     "data": {
      "text/plain": [
       "(15480, 8)"
      ]
     },
     "execution_count": 90,
     "metadata": {},
     "output_type": "execute_result"
    }
   ],
   "source": [
    "X_train0.shape"
   ]
  },
  {
   "cell_type": "code",
   "execution_count": 91,
   "id": "e953310b-6805-4527-9a23-a0b2e7ffecbd",
   "metadata": {},
   "outputs": [
    {
     "data": {
      "text/plain": [
       "(11610, 8)"
      ]
     },
     "execution_count": 91,
     "metadata": {},
     "output_type": "execute_result"
    }
   ],
   "source": [
    "X_train1.shape"
   ]
  },
  {
   "cell_type": "code",
   "execution_count": 92,
   "id": "2d12d3ea-f071-4a0f-86a2-bf42574bf365",
   "metadata": {},
   "outputs": [
    {
     "data": {
      "text/plain": [
       "(3870, 8)"
      ]
     },
     "execution_count": 92,
     "metadata": {},
     "output_type": "execute_result"
    }
   ],
   "source": [
    "X_validation.shape"
   ]
  },
  {
   "cell_type": "code",
   "execution_count": 93,
   "id": "e1b91290-8ae9-41bf-b65e-9acc83ce5d9c",
   "metadata": {},
   "outputs": [],
   "source": [
    "sc = StandardScaler()\n",
    "X_train_s = sc.fit_transform(X_train1)\n",
    "X_validation_s = sc.transform(X_validation)\n",
    "X_test_s = sc.transform(X_test)"
   ]
  },
  {
   "cell_type": "code",
   "execution_count": 94,
   "id": "9c3d1f21-9d9f-4c09-84cf-c5003e91a458",
   "metadata": {},
   "outputs": [],
   "source": [
    "model = keras.models.Sequential([\n",
    "    keras.layers.Dense(50, activation=\"relu\"),\n",
    "    keras.layers.Dense(10, activation=\"relu\"),\n",
    "    keras.layers.Dense(1)\n",
    "])"
   ]
  },
  {
   "cell_type": "code",
   "execution_count": 95,
   "id": "6bf76b5a-12aa-493c-a5d4-70aaa39ba358",
   "metadata": {},
   "outputs": [],
   "source": [
    "model.compile(loss=\"mean_squared_error\",\n",
    "              optimizer=\"sgd\",\n",
    "              metrics=[\"mean_absolute_error\"])"
   ]
  },
  {
   "cell_type": "code",
   "execution_count": 96,
   "id": "c2e35ee1-6829-4ac9-a8cb-200a7c90271a",
   "metadata": {},
   "outputs": [
    {
     "name": "stdout",
     "output_type": "stream",
     "text": [
      "Epoch 1/30\n",
      "363/363 [==============================] - 2s 4ms/step - loss: 0.9240 - mean_absolute_error: 0.6583 - val_loss: 0.5019 - val_mean_absolute_error: 0.5121\n",
      "Epoch 2/30\n",
      "363/363 [==============================] - 1s 4ms/step - loss: 0.4993 - mean_absolute_error: 0.5006 - val_loss: 0.4559 - val_mean_absolute_error: 0.4840\n",
      "Epoch 3/30\n",
      "363/363 [==============================] - 2s 4ms/step - loss: 0.4454 - mean_absolute_error: 0.4777 - val_loss: 0.4323 - val_mean_absolute_error: 0.4681\n",
      "Epoch 4/30\n",
      "363/363 [==============================] - 2s 4ms/step - loss: 0.4261 - mean_absolute_error: 0.4669 - val_loss: 0.4160 - val_mean_absolute_error: 0.4603\n",
      "Epoch 5/30\n",
      "363/363 [==============================] - 1s 4ms/step - loss: 0.4124 - mean_absolute_error: 0.4579 - val_loss: 0.4029 - val_mean_absolute_error: 0.4522\n",
      "Epoch 6/30\n",
      "363/363 [==============================] - 2s 4ms/step - loss: 0.4036 - mean_absolute_error: 0.4519 - val_loss: 0.4178 - val_mean_absolute_error: 0.4539\n",
      "Epoch 7/30\n",
      "363/363 [==============================] - 1s 4ms/step - loss: 0.3934 - mean_absolute_error: 0.4457 - val_loss: 0.3898 - val_mean_absolute_error: 0.4398\n",
      "Epoch 8/30\n",
      "363/363 [==============================] - 1s 4ms/step - loss: 0.3921 - mean_absolute_error: 0.4416 - val_loss: 0.3714 - val_mean_absolute_error: 0.4352\n",
      "Epoch 9/30\n",
      "363/363 [==============================] - 1s 4ms/step - loss: 0.3771 - mean_absolute_error: 0.4346 - val_loss: 0.3652 - val_mean_absolute_error: 0.4276\n",
      "Epoch 10/30\n",
      "363/363 [==============================] - 2s 5ms/step - loss: 0.3678 - mean_absolute_error: 0.4292 - val_loss: 0.3557 - val_mean_absolute_error: 0.4225\n",
      "Epoch 11/30\n",
      "363/363 [==============================] - 1s 4ms/step - loss: 0.3581 - mean_absolute_error: 0.4234 - val_loss: 0.3569 - val_mean_absolute_error: 0.4151\n",
      "Epoch 12/30\n",
      "363/363 [==============================] - 1s 4ms/step - loss: 0.3542 - mean_absolute_error: 0.4194 - val_loss: 0.3468 - val_mean_absolute_error: 0.4163\n",
      "Epoch 13/30\n",
      "363/363 [==============================] - 1s 4ms/step - loss: 0.3490 - mean_absolute_error: 0.4156 - val_loss: 0.3408 - val_mean_absolute_error: 0.4128\n",
      "Epoch 14/30\n",
      "363/363 [==============================] - 1s 4ms/step - loss: 0.3427 - mean_absolute_error: 0.4125 - val_loss: 0.3449 - val_mean_absolute_error: 0.4058\n",
      "Epoch 15/30\n",
      "363/363 [==============================] - 1s 4ms/step - loss: 0.3378 - mean_absolute_error: 0.4089 - val_loss: 0.3347 - val_mean_absolute_error: 0.4038\n",
      "Epoch 16/30\n",
      "363/363 [==============================] - 1s 4ms/step - loss: 0.3341 - mean_absolute_error: 0.4060 - val_loss: 0.3375 - val_mean_absolute_error: 0.4165\n",
      "Epoch 17/30\n",
      "363/363 [==============================] - 1s 4ms/step - loss: 0.3300 - mean_absolute_error: 0.4032 - val_loss: 0.3303 - val_mean_absolute_error: 0.4099\n",
      "Epoch 18/30\n",
      "363/363 [==============================] - 2s 4ms/step - loss: 0.3276 - mean_absolute_error: 0.4019 - val_loss: 0.3231 - val_mean_absolute_error: 0.4031\n",
      "Epoch 19/30\n",
      "363/363 [==============================] - 2s 5ms/step - loss: 0.3321 - mean_absolute_error: 0.3999 - val_loss: 0.3234 - val_mean_absolute_error: 0.3932\n",
      "Epoch 20/30\n",
      "363/363 [==============================] - 2s 5ms/step - loss: 0.3213 - mean_absolute_error: 0.3973 - val_loss: 0.3271 - val_mean_absolute_error: 0.3980\n",
      "Epoch 21/30\n",
      "363/363 [==============================] - 1s 4ms/step - loss: 0.3194 - mean_absolute_error: 0.3969 - val_loss: 0.3179 - val_mean_absolute_error: 0.4012\n",
      "Epoch 22/30\n",
      "363/363 [==============================] - 1s 4ms/step - loss: 0.3187 - mean_absolute_error: 0.3953 - val_loss: 0.3142 - val_mean_absolute_error: 0.3913\n",
      "Epoch 23/30\n",
      "363/363 [==============================] - 1s 4ms/step - loss: 0.3204 - mean_absolute_error: 0.3954 - val_loss: 0.3123 - val_mean_absolute_error: 0.3861\n",
      "Epoch 24/30\n",
      "363/363 [==============================] - 1s 4ms/step - loss: 0.3176 - mean_absolute_error: 0.3925 - val_loss: 0.3592 - val_mean_absolute_error: 0.4031\n",
      "Epoch 25/30\n",
      "363/363 [==============================] - 1s 4ms/step - loss: 0.3180 - mean_absolute_error: 0.3930 - val_loss: 0.3147 - val_mean_absolute_error: 0.3942\n",
      "Epoch 26/30\n",
      "363/363 [==============================] - 1s 4ms/step - loss: 0.3108 - mean_absolute_error: 0.3904 - val_loss: 0.3088 - val_mean_absolute_error: 0.3887\n",
      "Epoch 27/30\n",
      "363/363 [==============================] - 1s 4ms/step - loss: 0.3083 - mean_absolute_error: 0.3879 - val_loss: 0.3101 - val_mean_absolute_error: 0.4047\n",
      "Epoch 28/30\n",
      "363/363 [==============================] - 1s 4ms/step - loss: 0.3144 - mean_absolute_error: 0.3893 - val_loss: 0.3028 - val_mean_absolute_error: 0.3891\n",
      "Epoch 29/30\n",
      "363/363 [==============================] - 2s 4ms/step - loss: 0.3093 - mean_absolute_error: 0.3881 - val_loss: 0.3074 - val_mean_absolute_error: 0.3834\n",
      "Epoch 30/30\n",
      "363/363 [==============================] - 1s 4ms/step - loss: 0.3071 - mean_absolute_error: 0.3863 - val_loss: 0.3359 - val_mean_absolute_error: 0.4276\n"
     ]
    }
   ],
   "source": [
    "Rhistory=model.fit(X_train_s, y_train1, epochs=30,\n",
    "          validation_data=(X_validation_s, y_validation))"
   ]
  },
  {
   "cell_type": "code",
   "execution_count": 97,
   "id": "76bdab48",
   "metadata": {},
   "outputs": [
    {
     "data": {
      "text/plain": [
       "{'loss': [0.9240228533744812,\n",
       "  0.4993075430393219,\n",
       "  0.4453747868537903,\n",
       "  0.4260515570640564,\n",
       "  0.4123574197292328,\n",
       "  0.40362510085105896,\n",
       "  0.3934149444103241,\n",
       "  0.3921092450618744,\n",
       "  0.377129465341568,\n",
       "  0.36780115962028503,\n",
       "  0.3581114411354065,\n",
       "  0.3542470335960388,\n",
       "  0.3490338623523712,\n",
       "  0.34274181723594666,\n",
       "  0.33775094151496887,\n",
       "  0.3340539038181305,\n",
       "  0.32999226450920105,\n",
       "  0.3276481628417969,\n",
       "  0.3321482539176941,\n",
       "  0.3212936222553253,\n",
       "  0.3193926215171814,\n",
       "  0.31873515248298645,\n",
       "  0.32039764523506165,\n",
       "  0.31758034229278564,\n",
       "  0.31795498728752136,\n",
       "  0.31078553199768066,\n",
       "  0.30828559398651123,\n",
       "  0.3144025206565857,\n",
       "  0.3092662990093231,\n",
       "  0.30714496970176697],\n",
       " 'mean_absolute_error': [0.6582939028739929,\n",
       "  0.5005563497543335,\n",
       "  0.47767752408981323,\n",
       "  0.4669119715690613,\n",
       "  0.45791441202163696,\n",
       "  0.45185694098472595,\n",
       "  0.4456723928451538,\n",
       "  0.4416149854660034,\n",
       "  0.43457871675491333,\n",
       "  0.42921218276023865,\n",
       "  0.42341646552085876,\n",
       "  0.41939643025398254,\n",
       "  0.4156157374382019,\n",
       "  0.4125478267669678,\n",
       "  0.40892624855041504,\n",
       "  0.4060046076774597,\n",
       "  0.40319451689720154,\n",
       "  0.40186139941215515,\n",
       "  0.39988985657691956,\n",
       "  0.39729902148246765,\n",
       "  0.3968653678894043,\n",
       "  0.3953271210193634,\n",
       "  0.3953833281993866,\n",
       "  0.39251774549484253,\n",
       "  0.39295345544815063,\n",
       "  0.3903733193874359,\n",
       "  0.38786134123802185,\n",
       "  0.3892769515514374,\n",
       "  0.38808396458625793,\n",
       "  0.3862655460834503],\n",
       " 'val_loss': [0.5018501877784729,\n",
       "  0.45590007305145264,\n",
       "  0.43232518434524536,\n",
       "  0.41597050428390503,\n",
       "  0.4029412269592285,\n",
       "  0.41782164573669434,\n",
       "  0.38982129096984863,\n",
       "  0.37138041853904724,\n",
       "  0.36520832777023315,\n",
       "  0.3556782603263855,\n",
       "  0.3568650186061859,\n",
       "  0.34675365686416626,\n",
       "  0.3407767713069916,\n",
       "  0.3449305593967438,\n",
       "  0.33470919728279114,\n",
       "  0.3375268876552582,\n",
       "  0.3303062617778778,\n",
       "  0.32308393716812134,\n",
       "  0.3233986794948578,\n",
       "  0.3271225094795227,\n",
       "  0.3179226517677307,\n",
       "  0.31422486901283264,\n",
       "  0.3123440444469452,\n",
       "  0.35920587182044983,\n",
       "  0.3147430121898651,\n",
       "  0.3087892234325409,\n",
       "  0.3101125657558441,\n",
       "  0.3027845323085785,\n",
       "  0.30743855237960815,\n",
       "  0.3359321355819702],\n",
       " 'val_mean_absolute_error': [0.5121024250984192,\n",
       "  0.48400139808654785,\n",
       "  0.4681142270565033,\n",
       "  0.46029749512672424,\n",
       "  0.45215511322021484,\n",
       "  0.45385411381721497,\n",
       "  0.439837247133255,\n",
       "  0.4351527690887451,\n",
       "  0.427584707736969,\n",
       "  0.4225180745124817,\n",
       "  0.41511210799217224,\n",
       "  0.41626331210136414,\n",
       "  0.4128206670284271,\n",
       "  0.4057658016681671,\n",
       "  0.40378087759017944,\n",
       "  0.4164891242980957,\n",
       "  0.40990227460861206,\n",
       "  0.4031166732311249,\n",
       "  0.3932296335697174,\n",
       "  0.39802664518356323,\n",
       "  0.40119287371635437,\n",
       "  0.3912615180015564,\n",
       "  0.386075884103775,\n",
       "  0.40310636162757874,\n",
       "  0.3941900432109833,\n",
       "  0.38869574666023254,\n",
       "  0.4046529233455658,\n",
       "  0.3890663683414459,\n",
       "  0.3833768665790558,\n",
       "  0.427599161863327]}"
      ]
     },
     "execution_count": 97,
     "metadata": {},
     "output_type": "execute_result"
    }
   ],
   "source": [
    "Rhistory.history"
   ]
  },
  {
   "cell_type": "code",
   "execution_count": 98,
   "id": "9d958af8",
   "metadata": {},
   "outputs": [
    {
     "data": {
      "text/plain": [
       "<matplotlib.legend.Legend at 0x2031ca5b550>"
      ]
     },
     "execution_count": 98,
     "metadata": {},
     "output_type": "execute_result"
    },
    {
     "data": {
      "image/png": "[encoded data removed]",
      "text/plain": [
       "<Figure size 1200x500 with 1 Axes>"
      ]
     },
     "metadata": {},
     "output_type": "display_data"
    }
   ],
   "source": [
    "fig, ax = plt.subplots(figsize=(12, 5))\n",
    "ax.plot(Rhistory.history[\"loss\"], label=\"train loss\")\n",
    "ax.plot(Rhistory.history[\"mean_absolute_error\"], label=\"train accuracy\")\n",
    "ax.plot(Rhistory.history[\"val_loss\"], label=\"validation loss\")\n",
    "ax.plot(Rhistory.history[\"val_mean_absolute_error\"], label=\"validation accuracy\")\n",
    "ax.legend()"
   ]
  },
  {
   "cell_type": "code",
   "execution_count": 99,
   "id": "cf181f76",
   "metadata": {},
   "outputs": [
    {
     "data": {
      "text/plain": [
       "[17138.044921875, 127.21971893310547]"
      ]
     },
     "execution_count": 99,
     "metadata": {},
     "output_type": "execute_result"
    }
   ],
   "source": [
    "model.evaluate(X_test,y_test, verbose=0)"
   ]
  },
  {
   "cell_type": "markdown",
   "id": "84dc1b5d-3b94-4a1d-bcf9-f3da38680f1f",
   "metadata": {},
   "source": [
    "# Functional API"
   ]
  },
  {
   "cell_type": "code",
   "execution_count": 100,
   "id": "de31a64f-5c23-492b-b6d1-b3825d722e01",
   "metadata": {},
   "outputs": [
    {
     "data": {
      "text/plain": [
       "(8,)"
      ]
     },
     "execution_count": 100,
     "metadata": {},
     "output_type": "execute_result"
    }
   ],
   "source": [
    "X_train0.shape[1:]"
   ]
  },
  {
   "cell_type": "code",
   "execution_count": 101,
   "id": "bf259c70-78e8-49e1-8c53-75c13ab2411e",
   "metadata": {},
   "outputs": [],
   "source": [
    "input_ = keras.layers.Input(shape=X_train1.shape[1:])\n",
    "hidden_layer1 = keras.layers.Dense(50, activation=\"relu\")(input_)\n",
    "hidden_layer2 = keras.layers.Dense(10, activation=\"relu\")(hidden_layer1)\n",
    "concatenate_layer = keras.layers.Concatenate()([input_, hidden_layer2])\n",
    "output = keras.layers.Dense(1)(concatenate_layer)\n",
    "model = keras.Model(inputs=[input_], outputs=[output])"
   ]
  },
  {
   "cell_type": "code",
   "execution_count": 102,
   "id": "ba5c2d24-129a-41fb-9b9c-6c9f9d56f60f",
   "metadata": {},
   "outputs": [],
   "source": [
    "model.compile(loss=\"mean_squared_error\",\n",
    "              optimizer=\"sgd\",\n",
    "              metrics=[\"mean_absolute_error\"])"
   ]
  },
  {
   "cell_type": "code",
   "execution_count": 51,
   "id": "a38f68c0-1d84-48a9-b762-87f8b079acb3",
   "metadata": {},
   "outputs": [
    {
     "name": "stdout",
     "output_type": "stream",
     "text": [
      "Epoch 1/30\n",
      "363/363 [==============================] - 1s 2ms/step - loss: 1.4545 - mean_absolute_error: 0.7048 - val_loss: 0.6388 - val_mean_absolute_error: 0.5598\n",
      "Epoch 2/30\n",
      "363/363 [==============================] - 1s 2ms/step - loss: 0.6935 - mean_absolute_error: 0.5480 - val_loss: 0.5309 - val_mean_absolute_error: 0.5374\n",
      "Epoch 3/30\n",
      "363/363 [==============================] - 1s 2ms/step - loss: 0.5576 - mean_absolute_error: 0.5313 - val_loss: 0.5089 - val_mean_absolute_error: 0.5233\n",
      "Epoch 4/30\n",
      "363/363 [==============================] - 1s 1ms/step - loss: 0.5243 - mean_absolute_error: 0.5214 - val_loss: 0.6890 - val_mean_absolute_error: 0.5665\n",
      "Epoch 5/30\n",
      "363/363 [==============================] - 1s 2ms/step - loss: 0.5596 - mean_absolute_error: 0.5189 - val_loss: 0.4822 - val_mean_absolute_error: 0.5043\n",
      "Epoch 6/30\n",
      "363/363 [==============================] - 1s 2ms/step - loss: 0.5121 - mean_absolute_error: 0.5033 - val_loss: 0.4562 - val_mean_absolute_error: 0.4862\n",
      "Epoch 7/30\n",
      "363/363 [==============================] - 1s 2ms/step - loss: 0.4654 - mean_absolute_error: 0.4899 - val_loss: 0.4459 - val_mean_absolute_error: 0.4813\n",
      "Epoch 8/30\n",
      "363/363 [==============================] - 1s 2ms/step - loss: 0.4608 - mean_absolute_error: 0.4856 - val_loss: 0.4330 - val_mean_absolute_error: 0.4770\n",
      "Epoch 9/30\n",
      "363/363 [==============================] - 1s 2ms/step - loss: 0.4716 - mean_absolute_error: 0.4799 - val_loss: 0.4503 - val_mean_absolute_error: 0.4869\n",
      "Epoch 10/30\n",
      "363/363 [==============================] - 1s 2ms/step - loss: 0.4402 - mean_absolute_error: 0.4728 - val_loss: 0.4177 - val_mean_absolute_error: 0.4707\n",
      "Epoch 11/30\n",
      "363/363 [==============================] - 1s 2ms/step - loss: 0.4250 - mean_absolute_error: 0.4652 - val_loss: 0.4240 - val_mean_absolute_error: 0.4606\n",
      "Epoch 12/30\n",
      "363/363 [==============================] - 1s 2ms/step - loss: 0.4112 - mean_absolute_error: 0.4580 - val_loss: 0.3998 - val_mean_absolute_error: 0.4539\n",
      "Epoch 13/30\n",
      "363/363 [==============================] - 1s 2ms/step - loss: 0.4042 - mean_absolute_error: 0.4539 - val_loss: 0.4072 - val_mean_absolute_error: 0.4628\n",
      "Epoch 14/30\n",
      "363/363 [==============================] - 1s 2ms/step - loss: 0.3971 - mean_absolute_error: 0.4492 - val_loss: 0.3896 - val_mean_absolute_error: 0.4436\n",
      "Epoch 15/30\n",
      "363/363 [==============================] - 1s 2ms/step - loss: 0.3997 - mean_absolute_error: 0.4461 - val_loss: 0.3853 - val_mean_absolute_error: 0.4401\n",
      "Epoch 16/30\n",
      "363/363 [==============================] - 1s 2ms/step - loss: 0.3940 - mean_absolute_error: 0.4408 - val_loss: 0.3778 - val_mean_absolute_error: 0.4469\n",
      "Epoch 17/30\n",
      "363/363 [==============================] - 1s 2ms/step - loss: 0.3834 - mean_absolute_error: 0.4380 - val_loss: 0.3679 - val_mean_absolute_error: 0.4346\n",
      "Epoch 18/30\n",
      "363/363 [==============================] - 1s 2ms/step - loss: 0.3734 - mean_absolute_error: 0.4336 - val_loss: 0.3715 - val_mean_absolute_error: 0.4280\n",
      "Epoch 19/30\n",
      "363/363 [==============================] - 1s 2ms/step - loss: 0.3680 - mean_absolute_error: 0.4314 - val_loss: 0.3612 - val_mean_absolute_error: 0.4292\n",
      "Epoch 20/30\n",
      "363/363 [==============================] - 1s 2ms/step - loss: 0.3654 - mean_absolute_error: 0.4294 - val_loss: 0.3694 - val_mean_absolute_error: 0.4354\n",
      "Epoch 21/30\n",
      "363/363 [==============================] - 1s 2ms/step - loss: 0.3641 - mean_absolute_error: 0.4265 - val_loss: 0.3562 - val_mean_absolute_error: 0.4255\n",
      "Epoch 22/30\n",
      "363/363 [==============================] - 1s 2ms/step - loss: 0.3633 - mean_absolute_error: 0.4245 - val_loss: 0.3726 - val_mean_absolute_error: 0.4212\n",
      "Epoch 23/30\n",
      "363/363 [==============================] - 1s 2ms/step - loss: 0.3559 - mean_absolute_error: 0.4235 - val_loss: 0.3487 - val_mean_absolute_error: 0.4249\n",
      "Epoch 24/30\n",
      "363/363 [==============================] - 1s 2ms/step - loss: 0.3516 - mean_absolute_error: 0.4210 - val_loss: 0.3546 - val_mean_absolute_error: 0.4306\n",
      "Epoch 25/30\n",
      "363/363 [==============================] - 1s 2ms/step - loss: 0.3558 - mean_absolute_error: 0.4193 - val_loss: 0.3428 - val_mean_absolute_error: 0.4147\n",
      "Epoch 26/30\n",
      "363/363 [==============================] - 1s 2ms/step - loss: 0.3474 - mean_absolute_error: 0.4174 - val_loss: 0.3484 - val_mean_absolute_error: 0.4277\n",
      "Epoch 27/30\n",
      "363/363 [==============================] - 1s 2ms/step - loss: 0.3493 - mean_absolute_error: 0.4155 - val_loss: 0.3462 - val_mean_absolute_error: 0.4092\n",
      "Epoch 28/30\n",
      "363/363 [==============================] - 1s 2ms/step - loss: 0.3453 - mean_absolute_error: 0.4148 - val_loss: 0.3328 - val_mean_absolute_error: 0.4068\n",
      "Epoch 29/30\n",
      "363/363 [==============================] - 1s 2ms/step - loss: 0.4128 - mean_absolute_error: 0.4180 - val_loss: 0.3557 - val_mean_absolute_error: 0.4103\n",
      "Epoch 30/30\n",
      "363/363 [==============================] - 1s 2ms/step - loss: 0.3475 - mean_absolute_error: 0.4116 - val_loss: 0.3471 - val_mean_absolute_error: 0.4254\n"
     ]
    },
    {
     "data": {
      "text/plain": [
       "<keras.src.callbacks.History at 0x2031a821ba0>"
      ]
     },
     "execution_count": 51,
     "metadata": {},
     "output_type": "execute_result"
    }
   ],
   "source": [
    "model.fit(X_train_s, y_train1, epochs=30,\n",
    "          validation_data=(X_validation_s, y_validation))"
   ]
  },
  {
   "cell_type": "code",
   "execution_count": 103,
   "id": "5230562a-70cc-4962-b676-0c74b16d1fa9",
   "metadata": {},
   "outputs": [],
   "source": [
    "X_train_s_1, X_train_s_2 = X_train_s[:, :6], X_train_s[:, -4:]\n",
    "X_validation_s_1, X_validation_s_2 = X_validation_s[:, :6], X_validation_s[:, -4:]\n",
    "X_test_s_1, X_test_s_2 = X_test_s[:, :6], X_test_s[:, -4:]"
   ]
  },
  {
   "cell_type": "code",
   "execution_count": 104,
   "id": "42801973-d581-4027-8345-7c837d358399",
   "metadata": {},
   "outputs": [],
   "source": [
    "input_1 = keras.layers.Input(shape=[6])\n",
    "input_2 = keras.layers.Input(shape=[4])\n",
    "hidden_layer1 = keras.layers.Dense(50, activation=\"relu\")(input_1)\n",
    "hidden_layer2 = keras.layers.Dense(10, activation=\"relu\")(hidden_layer1)\n",
    "concatenate_layer = keras.layers.Concatenate()([input_2, hidden_layer2])\n",
    "output = keras.layers.Dense(1)(concatenate_layer)\n",
    "model = keras.Model(inputs=[input_1, input_2], outputs=[output])"
   ]
  },
  {
   "cell_type": "code",
   "execution_count": 105,
   "id": "3bf1b9d6-69f9-4d61-ae1b-2b0650887e63",
   "metadata": {},
   "outputs": [],
   "source": [
    "model.compile(loss=\"mean_squared_error\",\n",
    "              optimizer=\"sgd\",\n",
    "              metrics=[\"mean_absolute_error\"])"
   ]
  },
  {
   "cell_type": "code",
   "execution_count": 106,
   "id": "5abfadd5-65a0-40d7-84a8-df01109ff3e3",
   "metadata": {},
   "outputs": [
    {
     "name": "stdout",
     "output_type": "stream",
     "text": [
      "Epoch 1/30\n",
      "363/363 [==============================] - 2s 5ms/step - loss: 3.2673 - mean_absolute_error: 0.6717 - val_loss: 0.7036 - val_mean_absolute_error: 0.6147\n",
      "Epoch 2/30\n",
      "363/363 [==============================] - 1s 4ms/step - loss: 20.2940 - mean_absolute_error: 0.6644 - val_loss: 0.5466 - val_mean_absolute_error: 0.5319\n",
      "Epoch 3/30\n",
      "363/363 [==============================] - 1s 4ms/step - loss: 10.4441 - mean_absolute_error: 0.5791 - val_loss: 0.4690 - val_mean_absolute_error: 0.4925\n",
      "Epoch 4/30\n",
      "363/363 [==============================] - 1s 4ms/step - loss: 0.4420 - mean_absolute_error: 0.4789 - val_loss: 0.4281 - val_mean_absolute_error: 0.4691\n",
      "Epoch 5/30\n",
      "363/363 [==============================] - 1s 4ms/step - loss: 0.4173 - mean_absolute_error: 0.4661 - val_loss: 0.5257 - val_mean_absolute_error: 0.4906\n",
      "Epoch 6/30\n",
      "363/363 [==============================] - 1s 3ms/step - loss: 0.4507 - mean_absolute_error: 0.4644 - val_loss: 0.3969 - val_mean_absolute_error: 0.4622\n",
      "Epoch 7/30\n",
      "363/363 [==============================] - 1s 4ms/step - loss: 0.3959 - mean_absolute_error: 0.4557 - val_loss: 0.3939 - val_mean_absolute_error: 0.4661\n",
      "Epoch 8/30\n",
      "363/363 [==============================] - 1s 4ms/step - loss: 0.3921 - mean_absolute_error: 0.4523 - val_loss: 0.3818 - val_mean_absolute_error: 0.4459\n",
      "Epoch 9/30\n",
      "363/363 [==============================] - 2s 4ms/step - loss: 0.3898 - mean_absolute_error: 0.4488 - val_loss: 0.3815 - val_mean_absolute_error: 0.4570\n",
      "Epoch 10/30\n",
      "363/363 [==============================] - 2s 4ms/step - loss: 0.3951 - mean_absolute_error: 0.4474 - val_loss: 0.3733 - val_mean_absolute_error: 0.4441\n",
      "Epoch 11/30\n",
      "363/363 [==============================] - 1s 4ms/step - loss: 0.3795 - mean_absolute_error: 0.4440 - val_loss: 0.3849 - val_mean_absolute_error: 0.4546\n",
      "Epoch 12/30\n",
      "363/363 [==============================] - 1s 4ms/step - loss: 0.5426 - mean_absolute_error: 0.4490 - val_loss: 0.3659 - val_mean_absolute_error: 0.4401\n",
      "Epoch 13/30\n",
      "363/363 [==============================] - 2s 4ms/step - loss: 0.3726 - mean_absolute_error: 0.4411 - val_loss: 0.3617 - val_mean_absolute_error: 0.4351\n",
      "Epoch 14/30\n",
      "363/363 [==============================] - 1s 4ms/step - loss: 0.3723 - mean_absolute_error: 0.4391 - val_loss: 0.4126 - val_mean_absolute_error: 0.4544\n",
      "Epoch 15/30\n",
      "363/363 [==============================] - 1s 4ms/step - loss: 0.3729 - mean_absolute_error: 0.4386 - val_loss: 0.3633 - val_mean_absolute_error: 0.4391\n",
      "Epoch 16/30\n",
      "363/363 [==============================] - 1s 4ms/step - loss: 0.3689 - mean_absolute_error: 0.4361 - val_loss: 0.3609 - val_mean_absolute_error: 0.4320\n",
      "Epoch 17/30\n",
      "363/363 [==============================] - 2s 4ms/step - loss: 0.3916 - mean_absolute_error: 0.4374 - val_loss: 0.3557 - val_mean_absolute_error: 0.4270\n",
      "Epoch 18/30\n",
      "363/363 [==============================] - 1s 4ms/step - loss: 0.3949 - mean_absolute_error: 0.4361 - val_loss: 0.3560 - val_mean_absolute_error: 0.4357\n",
      "Epoch 19/30\n",
      "363/363 [==============================] - 2s 5ms/step - loss: 0.3643 - mean_absolute_error: 0.4339 - val_loss: 0.3517 - val_mean_absolute_error: 0.4262\n",
      "Epoch 20/30\n",
      "363/363 [==============================] - 2s 5ms/step - loss: 0.3751 - mean_absolute_error: 0.4314 - val_loss: 0.3516 - val_mean_absolute_error: 0.4262\n",
      "Epoch 21/30\n",
      "363/363 [==============================] - 2s 5ms/step - loss: 0.3808 - mean_absolute_error: 0.4330 - val_loss: 0.3516 - val_mean_absolute_error: 0.4336\n",
      "Epoch 22/30\n",
      "363/363 [==============================] - 1s 4ms/step - loss: 0.3569 - mean_absolute_error: 0.4288 - val_loss: 0.3480 - val_mean_absolute_error: 0.4264\n",
      "Epoch 23/30\n",
      "363/363 [==============================] - 1s 4ms/step - loss: 0.3805 - mean_absolute_error: 0.4304 - val_loss: 0.3501 - val_mean_absolute_error: 0.4255\n",
      "Epoch 24/30\n",
      "363/363 [==============================] - 2s 4ms/step - loss: 0.3811 - mean_absolute_error: 0.4312 - val_loss: 0.3486 - val_mean_absolute_error: 0.4218\n",
      "Epoch 25/30\n",
      "363/363 [==============================] - 2s 4ms/step - loss: 0.3966 - mean_absolute_error: 0.4318 - val_loss: 0.3482 - val_mean_absolute_error: 0.4334\n",
      "Epoch 26/30\n",
      "363/363 [==============================] - 1s 4ms/step - loss: 0.3757 - mean_absolute_error: 0.4286 - val_loss: 0.3515 - val_mean_absolute_error: 0.4351\n",
      "Epoch 27/30\n",
      "363/363 [==============================] - 1s 4ms/step - loss: 0.3763 - mean_absolute_error: 0.4293 - val_loss: 0.3438 - val_mean_absolute_error: 0.4264\n",
      "Epoch 28/30\n",
      "363/363 [==============================] - 1s 3ms/step - loss: 0.3692 - mean_absolute_error: 0.4294 - val_loss: 0.3461 - val_mean_absolute_error: 0.4193\n",
      "Epoch 29/30\n",
      "363/363 [==============================] - 2s 4ms/step - loss: 0.3557 - mean_absolute_error: 0.4273 - val_loss: 0.3422 - val_mean_absolute_error: 0.4209\n",
      "Epoch 30/30\n",
      "363/363 [==============================] - 1s 4ms/step - loss: 0.3605 - mean_absolute_error: 0.4255 - val_loss: 0.3429 - val_mean_absolute_error: 0.4196\n"
     ]
    },
    {
     "data": {
      "text/plain": [
       "<keras.src.callbacks.History at 0x2031cb3e020>"
      ]
     },
     "execution_count": 106,
     "metadata": {},
     "output_type": "execute_result"
    }
   ],
   "source": [
    "model.fit((X_train_s_1, X_train_s_2), y_train1, epochs=30,\n",
    "          validation_data=((X_validation_s_1, X_validation_s_2),\n",
    "                           y_validation))"
   ]
  },
  {
   "cell_type": "code",
   "execution_count": 108,
   "id": "9a7e7a6f-1282-4654-8ddc-fe3000c0d93e",
   "metadata": {},
   "outputs": [],
   "source": [
    "input_1 = keras.layers.Input(shape=[6])\n",
    "input_2 = keras.layers.Input(shape=[4])\n",
    "hidden_layer1 = keras.layers.Dense(50, activation=\"relu\")(input_1)\n",
    "hidden_layer2 = keras.layers.Dense(10, activation=\"relu\")(hidden_layer1)\n",
    "concatenate_layer = keras.layers.Concatenate()([input_2, hidden_layer2])\n",
    "output = keras.layers.Dense(1, name=\"output\")(concatenate_layer)\n",
    "helper_output = keras.layers.Dense(1, name=\"helper_output\")(hidden_layer2)\n",
    "model_f = keras.Model(inputs=[input_1, input_2],\n",
    "                    outputs=[output, helper_output])"
   ]
  },
  {
   "cell_type": "code",
   "execution_count": 109,
   "id": "649ddbbe-5106-434f-9131-35ca5a66148b",
   "metadata": {},
   "outputs": [],
   "source": [
    "model_f.compile(loss=[\"mse\", \"mse\"],\n",
    "              loss_weights = [0.8, 0.2],\n",
    "              optimizer=\"sgd\",\n",
    "              metrics=[\"mean_absolute_error\"])"
   ]
  },
  {
   "cell_type": "code",
   "execution_count": 112,
   "id": "9f905791-7fd1-4451-9f30-5a3db023f822",
   "metadata": {},
   "outputs": [
    {
     "name": "stdout",
     "output_type": "stream",
     "text": [
      "Epoch 1/30\n",
      "363/363 [==============================] - 2s 6ms/step - loss: 0.3591 - output_loss: 0.3457 - helper_output_loss: 0.4126 - output_mean_absolute_error: 0.4208 - helper_output_mean_absolute_error: 0.4643 - val_loss: 0.3624 - val_output_loss: 0.3485 - val_helper_output_loss: 0.4179 - val_output_mean_absolute_error: 0.4208 - val_helper_output_mean_absolute_error: 0.4701\n",
      "Epoch 2/30\n",
      "363/363 [==============================] - 2s 5ms/step - loss: 0.3602 - output_loss: 0.3474 - helper_output_loss: 0.4115 - output_mean_absolute_error: 0.4217 - helper_output_mean_absolute_error: 0.4638 - val_loss: 0.3506 - val_output_loss: 0.3365 - val_helper_output_loss: 0.4071 - val_output_mean_absolute_error: 0.4178 - val_helper_output_mean_absolute_error: 0.4683\n",
      "Epoch 3/30\n",
      "363/363 [==============================] - 2s 6ms/step - loss: 0.3572 - output_loss: 0.3438 - helper_output_loss: 0.4107 - output_mean_absolute_error: 0.4206 - helper_output_mean_absolute_error: 0.4621 - val_loss: 0.3571 - val_output_loss: 0.3433 - val_helper_output_loss: 0.4121 - val_output_mean_absolute_error: 0.4185 - val_helper_output_mean_absolute_error: 0.4685\n",
      "Epoch 4/30\n",
      "363/363 [==============================] - 2s 5ms/step - loss: 0.3580 - output_loss: 0.3449 - helper_output_loss: 0.4103 - output_mean_absolute_error: 0.4202 - helper_output_mean_absolute_error: 0.4625 - val_loss: 0.3543 - val_output_loss: 0.3401 - val_helper_output_loss: 0.4109 - val_output_mean_absolute_error: 0.4222 - val_helper_output_mean_absolute_error: 0.4721\n",
      "Epoch 5/30\n",
      "363/363 [==============================] - 2s 6ms/step - loss: 0.3587 - output_loss: 0.3455 - helper_output_loss: 0.4116 - output_mean_absolute_error: 0.4212 - helper_output_mean_absolute_error: 0.4637 - val_loss: 0.3545 - val_output_loss: 0.3406 - val_helper_output_loss: 0.4103 - val_output_mean_absolute_error: 0.4195 - val_helper_output_mean_absolute_error: 0.4681\n",
      "Epoch 6/30\n",
      "363/363 [==============================] - 2s 6ms/step - loss: 0.3570 - output_loss: 0.3438 - helper_output_loss: 0.4097 - output_mean_absolute_error: 0.4194 - helper_output_mean_absolute_error: 0.4619 - val_loss: 0.3565 - val_output_loss: 0.3429 - val_helper_output_loss: 0.4109 - val_output_mean_absolute_error: 0.4240 - val_helper_output_mean_absolute_error: 0.4733\n",
      "Epoch 7/30\n",
      "363/363 [==============================] - 2s 5ms/step - loss: 0.3595 - output_loss: 0.3470 - helper_output_loss: 0.4096 - output_mean_absolute_error: 0.4202 - helper_output_mean_absolute_error: 0.4626 - val_loss: 0.3626 - val_output_loss: 0.3490 - val_helper_output_loss: 0.4169 - val_output_mean_absolute_error: 0.4198 - val_helper_output_mean_absolute_error: 0.4654\n",
      "Epoch 8/30\n",
      "363/363 [==============================] - 2s 6ms/step - loss: 0.3554 - output_loss: 0.3420 - helper_output_loss: 0.4091 - output_mean_absolute_error: 0.4193 - helper_output_mean_absolute_error: 0.4617 - val_loss: 0.3531 - val_output_loss: 0.3390 - val_helper_output_loss: 0.4092 - val_output_mean_absolute_error: 0.4245 - val_helper_output_mean_absolute_error: 0.4733\n",
      "Epoch 9/30\n",
      "363/363 [==============================] - 2s 4ms/step - loss: 0.3597 - output_loss: 0.3475 - helper_output_loss: 0.4085 - output_mean_absolute_error: 0.4202 - helper_output_mean_absolute_error: 0.4622 - val_loss: 0.3584 - val_output_loss: 0.3450 - val_helper_output_loss: 0.4120 - val_output_mean_absolute_error: 0.4248 - val_helper_output_mean_absolute_error: 0.4713\n",
      "Epoch 10/30\n",
      "363/363 [==============================] - 2s 6ms/step - loss: 0.3600 - output_loss: 0.3475 - helper_output_loss: 0.4101 - output_mean_absolute_error: 0.4199 - helper_output_mean_absolute_error: 0.4622 - val_loss: 0.3523 - val_output_loss: 0.3384 - val_helper_output_loss: 0.4079 - val_output_mean_absolute_error: 0.4248 - val_helper_output_mean_absolute_error: 0.4717\n",
      "Epoch 11/30\n",
      "363/363 [==============================] - 2s 5ms/step - loss: 0.3557 - output_loss: 0.3423 - helper_output_loss: 0.4093 - output_mean_absolute_error: 0.4200 - helper_output_mean_absolute_error: 0.4618 - val_loss: 0.3522 - val_output_loss: 0.3382 - val_helper_output_loss: 0.4083 - val_output_mean_absolute_error: 0.4181 - val_helper_output_mean_absolute_error: 0.4699\n",
      "Epoch 12/30\n",
      "363/363 [==============================] - 2s 5ms/step - loss: 0.3566 - output_loss: 0.3438 - helper_output_loss: 0.4080 - output_mean_absolute_error: 0.4181 - helper_output_mean_absolute_error: 0.4618 - val_loss: 0.3525 - val_output_loss: 0.3382 - val_helper_output_loss: 0.4096 - val_output_mean_absolute_error: 0.4194 - val_helper_output_mean_absolute_error: 0.4708\n",
      "Epoch 13/30\n",
      "363/363 [==============================] - 2s 5ms/step - loss: 0.3544 - output_loss: 0.3410 - helper_output_loss: 0.4080 - output_mean_absolute_error: 0.4187 - helper_output_mean_absolute_error: 0.4613 - val_loss: 0.3634 - val_output_loss: 0.3504 - val_helper_output_loss: 0.4155 - val_output_mean_absolute_error: 0.4199 - val_helper_output_mean_absolute_error: 0.4667\n",
      "Epoch 14/30\n",
      "363/363 [==============================] - 2s 5ms/step - loss: 0.3577 - output_loss: 0.3452 - helper_output_loss: 0.4077 - output_mean_absolute_error: 0.4196 - helper_output_mean_absolute_error: 0.4619 - val_loss: 0.3568 - val_output_loss: 0.3434 - val_helper_output_loss: 0.4103 - val_output_mean_absolute_error: 0.4158 - val_helper_output_mean_absolute_error: 0.4640\n",
      "Epoch 15/30\n",
      "363/363 [==============================] - 2s 4ms/step - loss: 0.3546 - output_loss: 0.3414 - helper_output_loss: 0.4072 - output_mean_absolute_error: 0.4193 - helper_output_mean_absolute_error: 0.4619 - val_loss: 0.3529 - val_output_loss: 0.3392 - val_helper_output_loss: 0.4078 - val_output_mean_absolute_error: 0.4166 - val_helper_output_mean_absolute_error: 0.4662\n",
      "Epoch 16/30\n",
      "363/363 [==============================] - 2s 5ms/step - loss: 0.3540 - output_loss: 0.3409 - helper_output_loss: 0.4063 - output_mean_absolute_error: 0.4173 - helper_output_mean_absolute_error: 0.4599 - val_loss: 0.3543 - val_output_loss: 0.3403 - val_helper_output_loss: 0.4104 - val_output_mean_absolute_error: 0.4202 - val_helper_output_mean_absolute_error: 0.4688\n",
      "Epoch 17/30\n",
      "363/363 [==============================] - 2s 6ms/step - loss: 0.3717 - output_loss: 0.3629 - helper_output_loss: 0.4068 - output_mean_absolute_error: 0.4193 - helper_output_mean_absolute_error: 0.4607 - val_loss: 0.3519 - val_output_loss: 0.3380 - val_helper_output_loss: 0.4074 - val_output_mean_absolute_error: 0.4173 - val_helper_output_mean_absolute_error: 0.4677\n",
      "Epoch 18/30\n",
      "363/363 [==============================] - 2s 6ms/step - loss: 0.3534 - output_loss: 0.3403 - helper_output_loss: 0.4061 - output_mean_absolute_error: 0.4189 - helper_output_mean_absolute_error: 0.4606 - val_loss: 0.3663 - val_output_loss: 0.3533 - val_helper_output_loss: 0.4186 - val_output_mean_absolute_error: 0.4250 - val_helper_output_mean_absolute_error: 0.4722\n",
      "Epoch 19/30\n",
      "363/363 [==============================] - 2s 5ms/step - loss: 0.3565 - output_loss: 0.3436 - helper_output_loss: 0.4080 - output_mean_absolute_error: 0.4185 - helper_output_mean_absolute_error: 0.4607 - val_loss: 0.3587 - val_output_loss: 0.3455 - val_helper_output_loss: 0.4113 - val_output_mean_absolute_error: 0.4171 - val_helper_output_mean_absolute_error: 0.4659\n",
      "Epoch 20/30\n",
      "363/363 [==============================] - 2s 6ms/step - loss: 0.3696 - output_loss: 0.3606 - helper_output_loss: 0.4056 - output_mean_absolute_error: 0.4189 - helper_output_mean_absolute_error: 0.4606 - val_loss: 0.3559 - val_output_loss: 0.3422 - val_helper_output_loss: 0.4107 - val_output_mean_absolute_error: 0.4242 - val_helper_output_mean_absolute_error: 0.4726\n",
      "Epoch 21/30\n",
      "363/363 [==============================] - 2s 5ms/step - loss: 0.3561 - output_loss: 0.3436 - helper_output_loss: 0.4062 - output_mean_absolute_error: 0.4174 - helper_output_mean_absolute_error: 0.4602 - val_loss: 0.3608 - val_output_loss: 0.3470 - val_helper_output_loss: 0.4160 - val_output_mean_absolute_error: 0.4290 - val_helper_output_mean_absolute_error: 0.4772\n",
      "Epoch 22/30\n"
     ]
    },
    {
     "name": "stdout",
     "output_type": "stream",
     "text": [
      "363/363 [==============================] - 2s 5ms/step - loss: 0.3555 - output_loss: 0.3431 - helper_output_loss: 0.4054 - output_mean_absolute_error: 0.4177 - helper_output_mean_absolute_error: 0.4597 - val_loss: 0.3660 - val_output_loss: 0.3516 - val_helper_output_loss: 0.4237 - val_output_mean_absolute_error: 0.4264 - val_helper_output_mean_absolute_error: 0.4772\n",
      "Epoch 23/30\n",
      "363/363 [==============================] - 2s 5ms/step - loss: 0.3519 - output_loss: 0.3387 - helper_output_loss: 0.4048 - output_mean_absolute_error: 0.4176 - helper_output_mean_absolute_error: 0.4601 - val_loss: 0.3559 - val_output_loss: 0.3420 - val_helper_output_loss: 0.4114 - val_output_mean_absolute_error: 0.4179 - val_helper_output_mean_absolute_error: 0.4665\n",
      "Epoch 24/30\n",
      "363/363 [==============================] - 2s 5ms/step - loss: 0.3545 - output_loss: 0.3415 - helper_output_loss: 0.4063 - output_mean_absolute_error: 0.4170 - helper_output_mean_absolute_error: 0.4599 - val_loss: 0.3570 - val_output_loss: 0.3433 - val_helper_output_loss: 0.4115 - val_output_mean_absolute_error: 0.4216 - val_helper_output_mean_absolute_error: 0.4681\n",
      "Epoch 25/30\n",
      "363/363 [==============================] - 2s 5ms/step - loss: 0.3544 - output_loss: 0.3416 - helper_output_loss: 0.4058 - output_mean_absolute_error: 0.4169 - helper_output_mean_absolute_error: 0.4595 - val_loss: 0.3569 - val_output_loss: 0.3433 - val_helper_output_loss: 0.4113 - val_output_mean_absolute_error: 0.4254 - val_helper_output_mean_absolute_error: 0.4751\n",
      "Epoch 26/30\n",
      "363/363 [==============================] - 2s 5ms/step - loss: 0.3526 - output_loss: 0.3395 - helper_output_loss: 0.4051 - output_mean_absolute_error: 0.4163 - helper_output_mean_absolute_error: 0.4593 - val_loss: 0.3559 - val_output_loss: 0.3425 - val_helper_output_loss: 0.4097 - val_output_mean_absolute_error: 0.4171 - val_helper_output_mean_absolute_error: 0.4653\n",
      "Epoch 27/30\n",
      "363/363 [==============================] - 2s 4ms/step - loss: 0.3520 - output_loss: 0.3388 - helper_output_loss: 0.4049 - output_mean_absolute_error: 0.4162 - helper_output_mean_absolute_error: 0.4594 - val_loss: 0.3508 - val_output_loss: 0.3369 - val_helper_output_loss: 0.4061 - val_output_mean_absolute_error: 0.4212 - val_helper_output_mean_absolute_error: 0.4699\n",
      "Epoch 28/30\n",
      "363/363 [==============================] - 2s 5ms/step - loss: 0.3513 - output_loss: 0.3380 - helper_output_loss: 0.4043 - output_mean_absolute_error: 0.4165 - helper_output_mean_absolute_error: 0.4593 - val_loss: 0.3554 - val_output_loss: 0.3414 - val_helper_output_loss: 0.4112 - val_output_mean_absolute_error: 0.4208 - val_helper_output_mean_absolute_error: 0.4721\n",
      "Epoch 29/30\n",
      "363/363 [==============================] - 2s 5ms/step - loss: 0.3512 - output_loss: 0.3382 - helper_output_loss: 0.4029 - output_mean_absolute_error: 0.4153 - helper_output_mean_absolute_error: 0.4580 - val_loss: 0.3542 - val_output_loss: 0.3405 - val_helper_output_loss: 0.4089 - val_output_mean_absolute_error: 0.4183 - val_helper_output_mean_absolute_error: 0.4675\n",
      "Epoch 30/30\n",
      "363/363 [==============================] - 2s 5ms/step - loss: 0.3536 - output_loss: 0.3408 - helper_output_loss: 0.4048 - output_mean_absolute_error: 0.4168 - helper_output_mean_absolute_error: 0.4602 - val_loss: 0.3637 - val_output_loss: 0.3509 - val_helper_output_loss: 0.4149 - val_output_mean_absolute_error: 0.4342 - val_helper_output_mean_absolute_error: 0.4783\n"
     ]
    }
   ],
   "source": [
    "history_f=model_f.fit((X_train_s_1, X_train_s_2), (y_train1, y_train1), epochs=30,\n",
    "          validation_data=((X_validation_s_1, X_validation_s_2),\n",
    "                           (y_validation, y_validation)))"
   ]
  },
  {
   "cell_type": "code",
   "execution_count": 113,
   "id": "3b3516b7",
   "metadata": {},
   "outputs": [
    {
     "data": {
      "text/plain": [
       "{'loss': [0.35907047986984253,\n",
       "  0.3602185845375061,\n",
       "  0.35722440481185913,\n",
       "  0.357989639043808,\n",
       "  0.3587065041065216,\n",
       "  0.35698357224464417,\n",
       "  0.3595219552516937,\n",
       "  0.35539859533309937,\n",
       "  0.35973575711250305,\n",
       "  0.36004164814949036,\n",
       "  0.35571250319480896,\n",
       "  0.35660669207572937,\n",
       "  0.3544115126132965,\n",
       "  0.3577428162097931,\n",
       "  0.35456544160842896,\n",
       "  0.3540111482143402,\n",
       "  0.37170886993408203,\n",
       "  0.35342490673065186,\n",
       "  0.35649141669273376,\n",
       "  0.36957499384880066,\n",
       "  0.35610830783843994,\n",
       "  0.35553860664367676,\n",
       "  0.3519073724746704,\n",
       "  0.3544912338256836,\n",
       "  0.35444176197052,\n",
       "  0.3526332676410675,\n",
       "  0.35203781723976135,\n",
       "  0.3512665331363678,\n",
       "  0.3511820137500763,\n",
       "  0.3535516560077667],\n",
       " 'output_loss': [0.3456780016422272,\n",
       "  0.34739840030670166,\n",
       "  0.34384503960609436,\n",
       "  0.3449057638645172,\n",
       "  0.34548085927963257,\n",
       "  0.3437941074371338,\n",
       "  0.3469915986061096,\n",
       "  0.34197571873664856,\n",
       "  0.34753474593162537,\n",
       "  0.34753113985061646,\n",
       "  0.342311292886734,\n",
       "  0.34375861287117004,\n",
       "  0.3410044312477112,\n",
       "  0.3452419638633728,\n",
       "  0.34141287207603455,\n",
       "  0.34094956517219543,\n",
       "  0.36293092370033264,\n",
       "  0.3402632474899292,\n",
       "  0.34360185265541077,\n",
       "  0.3605624735355377,\n",
       "  0.3435744643211365,\n",
       "  0.3430742621421814,\n",
       "  0.33867451548576355,\n",
       "  0.3415322005748749,\n",
       "  0.341604620218277,\n",
       "  0.33951541781425476,\n",
       "  0.33882397413253784,\n",
       "  0.3379979431629181,\n",
       "  0.33824238181114197,\n",
       "  0.34075045585632324],\n",
       " 'helper_output_loss': [0.41263967752456665,\n",
       "  0.41149887442588806,\n",
       "  0.4107414782047272,\n",
       "  0.4103260338306427,\n",
       "  0.41160932183265686,\n",
       "  0.4097408056259155,\n",
       "  0.4096437990665436,\n",
       "  0.40908971428871155,\n",
       "  0.408539742231369,\n",
       "  0.41008278727531433,\n",
       "  0.4093162417411804,\n",
       "  0.40799856185913086,\n",
       "  0.408039391040802,\n",
       "  0.40774592757225037,\n",
       "  0.40717604756355286,\n",
       "  0.4062581956386566,\n",
       "  0.406820684671402,\n",
       "  0.4060712456703186,\n",
       "  0.40804871916770935,\n",
       "  0.40562498569488525,\n",
       "  0.40624499320983887,\n",
       "  0.4053962528705597,\n",
       "  0.4048379361629486,\n",
       "  0.40632694959640503,\n",
       "  0.40578967332839966,\n",
       "  0.4051048755645752,\n",
       "  0.40489375591278076,\n",
       "  0.4043411314487457,\n",
       "  0.40294143557548523,\n",
       "  0.4047566056251526],\n",
       " 'output_mean_absolute_error': [0.42083266377449036,\n",
       "  0.42171552777290344,\n",
       "  0.4206473231315613,\n",
       "  0.42019668221473694,\n",
       "  0.421211302280426,\n",
       "  0.4194437861442566,\n",
       "  0.420165091753006,\n",
       "  0.41929298639297485,\n",
       "  0.42016610503196716,\n",
       "  0.419927179813385,\n",
       "  0.4199773371219635,\n",
       "  0.4181005656719208,\n",
       "  0.41873452067375183,\n",
       "  0.4196147322654724,\n",
       "  0.4192567467689514,\n",
       "  0.417301207780838,\n",
       "  0.4192531704902649,\n",
       "  0.4188729226589203,\n",
       "  0.4184640944004059,\n",
       "  0.41886699199676514,\n",
       "  0.4173756241798401,\n",
       "  0.41768893599510193,\n",
       "  0.4175572097301483,\n",
       "  0.4170326888561249,\n",
       "  0.41694965958595276,\n",
       "  0.41630443930625916,\n",
       "  0.41624295711517334,\n",
       "  0.4164994955062866,\n",
       "  0.4152790904045105,\n",
       "  0.41678670048713684],\n",
       " 'helper_output_mean_absolute_error': [0.46434056758880615,\n",
       "  0.4637604355812073,\n",
       "  0.46209517121315,\n",
       "  0.4624568521976471,\n",
       "  0.46373310685157776,\n",
       "  0.46194982528686523,\n",
       "  0.46255382895469666,\n",
       "  0.46171095967292786,\n",
       "  0.4621846079826355,\n",
       "  0.46218141913414,\n",
       "  0.46175768971443176,\n",
       "  0.461778461933136,\n",
       "  0.46128416061401367,\n",
       "  0.46186837553977966,\n",
       "  0.4619446396827698,\n",
       "  0.4599035680294037,\n",
       "  0.46071064472198486,\n",
       "  0.4606051743030548,\n",
       "  0.46066924929618835,\n",
       "  0.46064499020576477,\n",
       "  0.46024540066719055,\n",
       "  0.45968547463417053,\n",
       "  0.4601021111011505,\n",
       "  0.45988863706588745,\n",
       "  0.4594634771347046,\n",
       "  0.4593040943145752,\n",
       "  0.4593599736690521,\n",
       "  0.45925867557525635,\n",
       "  0.4580407738685608,\n",
       "  0.4601672291755676],\n",
       " 'val_loss': [0.36241236329078674,\n",
       "  0.3506254553794861,\n",
       "  0.3571033179759979,\n",
       "  0.3542839288711548,\n",
       "  0.3545454144477844,\n",
       "  0.35647135972976685,\n",
       "  0.3625807464122772,\n",
       "  0.35308021306991577,\n",
       "  0.3584040701389313,\n",
       "  0.352253258228302,\n",
       "  0.3521970808506012,\n",
       "  0.35246315598487854,\n",
       "  0.36340221762657166,\n",
       "  0.35678631067276,\n",
       "  0.35288843512535095,\n",
       "  0.3542770743370056,\n",
       "  0.3518507182598114,\n",
       "  0.36634016036987305,\n",
       "  0.358651727437973,\n",
       "  0.3558754622936249,\n",
       "  0.36077994108200073,\n",
       "  0.36604374647140503,\n",
       "  0.35585612058639526,\n",
       "  0.3569510877132416,\n",
       "  0.3569345772266388,\n",
       "  0.35592779517173767,\n",
       "  0.3507806956768036,\n",
       "  0.3553873896598816,\n",
       "  0.3541560173034668,\n",
       "  0.36365363001823425],\n",
       " 'val_output_loss': [0.3485338091850281,\n",
       "  0.33650362491607666,\n",
       "  0.3433482050895691,\n",
       "  0.34013134241104126,\n",
       "  0.34060004353523254,\n",
       "  0.34286245703697205,\n",
       "  0.34901052713394165,\n",
       "  0.339047372341156,\n",
       "  0.3450000286102295,\n",
       "  0.3383510410785675,\n",
       "  0.33817750215530396,\n",
       "  0.3381865322589874,\n",
       "  0.35037973523139954,\n",
       "  0.3434198796749115,\n",
       "  0.3391639292240143,\n",
       "  0.3402574062347412,\n",
       "  0.3379673361778259,\n",
       "  0.353272020816803,\n",
       "  0.3454991281032562,\n",
       "  0.3421713411808014,\n",
       "  0.3469763994216919,\n",
       "  0.3516332507133484,\n",
       "  0.341965913772583,\n",
       "  0.3433048129081726,\n",
       "  0.3433384895324707,\n",
       "  0.3424828052520752,\n",
       "  0.33694198727607727,\n",
       "  0.34143468737602234,\n",
       "  0.3404582738876343,\n",
       "  0.3508506119251251],\n",
       " 'val_helper_output_loss': [0.4179266095161438,\n",
       "  0.4071124196052551,\n",
       "  0.4121236205101013,\n",
       "  0.4108941853046417,\n",
       "  0.41032689809799194,\n",
       "  0.4109068810939789,\n",
       "  0.41686180233955383,\n",
       "  0.40921106934547424,\n",
       "  0.41202059388160706,\n",
       "  0.40786197781562805,\n",
       "  0.40827491879463196,\n",
       "  0.4095692038536072,\n",
       "  0.41549283266067505,\n",
       "  0.4102517068386078,\n",
       "  0.40778663754463196,\n",
       "  0.4103553593158722,\n",
       "  0.4073842763900757,\n",
       "  0.4186123013496399,\n",
       "  0.4112623333930969,\n",
       "  0.4106922447681427,\n",
       "  0.41599464416503906,\n",
       "  0.4236864149570465,\n",
       "  0.4114159047603607,\n",
       "  0.4115357995033264,\n",
       "  0.41131871938705444,\n",
       "  0.40970784425735474,\n",
       "  0.40613511204719543,\n",
       "  0.4111982583999634,\n",
       "  0.40894681215286255,\n",
       "  0.41486576199531555],\n",
       " 'val_output_mean_absolute_error': [0.4208422303199768,\n",
       "  0.4177738130092621,\n",
       "  0.41847896575927734,\n",
       "  0.4222010374069214,\n",
       "  0.4194793105125427,\n",
       "  0.423965185880661,\n",
       "  0.41976138949394226,\n",
       "  0.42453739047050476,\n",
       "  0.42483246326446533,\n",
       "  0.424755334854126,\n",
       "  0.41811445355415344,\n",
       "  0.41938549280166626,\n",
       "  0.4198746383190155,\n",
       "  0.41581034660339355,\n",
       "  0.4166080057621002,\n",
       "  0.42021217942237854,\n",
       "  0.41726550459861755,\n",
       "  0.4250398278236389,\n",
       "  0.41710904240608215,\n",
       "  0.42419466376304626,\n",
       "  0.42897453904151917,\n",
       "  0.42643189430236816,\n",
       "  0.4179072678089142,\n",
       "  0.4215923547744751,\n",
       "  0.425368070602417,\n",
       "  0.41708067059516907,\n",
       "  0.42122313380241394,\n",
       "  0.42084237933158875,\n",
       "  0.4182629883289337,\n",
       "  0.43424174189567566],\n",
       " 'val_helper_output_mean_absolute_error': [0.4701312184333801,\n",
       "  0.4682784080505371,\n",
       "  0.4685173034667969,\n",
       "  0.47209978103637695,\n",
       "  0.4680936336517334,\n",
       "  0.4733460545539856,\n",
       "  0.46543610095977783,\n",
       "  0.473307728767395,\n",
       "  0.47132864594459534,\n",
       "  0.4717067778110504,\n",
       "  0.46986913681030273,\n",
       "  0.47075366973876953,\n",
       "  0.4666667580604553,\n",
       "  0.4640182554721832,\n",
       "  0.46617385745048523,\n",
       "  0.46884140372276306,\n",
       "  0.4676763117313385,\n",
       "  0.47218480706214905,\n",
       "  0.46590736508369446,\n",
       "  0.47261783480644226,\n",
       "  0.47716379165649414,\n",
       "  0.4771731495857239,\n",
       "  0.4665084481239319,\n",
       "  0.4680798649787903,\n",
       "  0.4751195013523102,\n",
       "  0.4653017818927765,\n",
       "  0.4698517918586731,\n",
       "  0.47211551666259766,\n",
       "  0.46745917201042175,\n",
       "  0.4782969355583191]}"
      ]
     },
     "execution_count": 113,
     "metadata": {},
     "output_type": "execute_result"
    }
   ],
   "source": [
    "history_f.history"
   ]
  },
  {
   "cell_type": "code",
   "execution_count": 115,
   "id": "694b90dc",
   "metadata": {},
   "outputs": [
    {
     "data": {
      "text/plain": [
       "<matplotlib.legend.Legend at 0x2031d2906a0>"
      ]
     },
     "execution_count": 115,
     "metadata": {},
     "output_type": "execute_result"
    },
    {
     "data": {
      "image/png": "[encoded data removed]",
      "text/plain": [
       "<Figure size 1200x500 with 1 Axes>"
      ]
     },
     "metadata": {},
     "output_type": "display_data"
    }
   ],
   "source": [
    "fig, ax = plt.subplots(figsize=(12, 5))\n",
    "ax.plot(history_f.history[\"output_loss\"], label=\"output_loss\")\n",
    "ax.plot(history_f.history[\"helper_output_loss\"], label=\"helper_output_loss\")\n",
    "ax.plot(history_f.history[\"output_mean_absolute_error\"], label=\"output_mean_absolute_error\")\n",
    "ax.plot(history_f.history[\"helper_output_mean_absolute_error\"], label=\"helper_output_mean_absolute_error\")\n",
    "ax.plot(history_f.history[\"val_loss\"], label=\"val_loss\")\n",
    "ax.plot(history_f.history[\"val_output_loss\"], label=\"val_output_loss\")\n",
    "ax.plot(history_f.history[\"val_helper_output_loss\"], label=\"val_helper_output_loss\")\n",
    "\n",
    "ax.plot(history_f.history[\"val_output_mean_absolute_error\"], label=\"val_output_mean_absolute_error\")\n",
    "\n",
    "ax.plot(history_f.history[\"val_helper_output_mean_absolute_error\"], label=\"val_helper_output_mean_absolute_error\")\n",
    "\n",
    "ax.legend()"
   ]
  },
  {
   "cell_type": "markdown",
   "id": "ac726e66-7082-4b68-826e-5c2003634bdd",
   "metadata": {},
   "source": [
    "# Subclass API"
   ]
  },
  {
   "cell_type": "code",
   "execution_count": 116,
   "id": "00f2eab2-ea88-465e-bb1a-117fc16b9133",
   "metadata": {},
   "outputs": [],
   "source": [
    "class WideAndDeepANN(keras.Model):\n",
    "    def __init__(self, activation=\"relu\", **kwargs):\n",
    "        super().__init__(**kwargs)\n",
    "        self.hidden_layer_1 = keras.layers.Dense(50, activation=activation)\n",
    "        self.hidden_layer_2 = keras.layers.Dense(10, activation=activation)\n",
    "        self.final_output   = keras.layers.Dense(1)\n",
    "        self.helper_output  = keras.layers.Dense(1)\n",
    "    \n",
    "    def call(self, inputs):\n",
    "        input_1, input_2 = inputs\n",
    "        h1_out = self.hidden_layer_1(input_1)\n",
    "        h2_out = self.hidden_layer_2(h1_out)\n",
    "        concat_out = keras.layers.concatenate([input_2, h2_out])\n",
    "        final_out = self.final_output(concat_out)\n",
    "        helper_out = self.helper_output(h2_out)\n",
    "        return final_out, helper_out"
   ]
  },
  {
   "cell_type": "code",
   "execution_count": 117,
   "id": "0a9d0481-4f86-4046-9718-427f03164b61",
   "metadata": {},
   "outputs": [],
   "source": [
    "model_sub = WideAndDeepANN()"
   ]
  },
  {
   "cell_type": "code",
   "execution_count": 118,
   "id": "e4bccd74-e1f0-4379-9a95-23aad79c9388",
   "metadata": {},
   "outputs": [],
   "source": [
    "model_sub.compile(loss=[\"mse\", \"mse\"],\n",
    "              loss_weights = [0.8, 0.2],\n",
    "              optimizer=\"sgd\",\n",
    "              metrics=[\"mean_absolute_error\"])"
   ]
  },
  {
   "cell_type": "code",
   "execution_count": 119,
   "id": "41cfbb9a-e734-4175-82f8-327f1489011a",
   "metadata": {},
   "outputs": [
    {
     "name": "stdout",
     "output_type": "stream",
     "text": [
      "Epoch 1/30\n",
      "363/363 [==============================] - 3s 6ms/step - loss: 1.2111 - output_1_loss: 1.1934 - output_2_loss: 1.2822 - output_1_mean_absolute_error: 0.6716 - output_2_mean_absolute_error: 0.7706 - val_loss: 0.5747 - val_output_1_loss: 0.5474 - val_output_2_loss: 0.6842 - val_output_1_mean_absolute_error: 0.5558 - val_output_2_mean_absolute_error: 0.6003\n",
      "Epoch 2/30\n",
      "363/363 [==============================] - 2s 5ms/step - loss: 0.5471 - output_1_loss: 0.5293 - output_2_loss: 0.6182 - output_1_mean_absolute_error: 0.5270 - output_2_mean_absolute_error: 0.5758 - val_loss: 0.5120 - val_output_1_loss: 0.4909 - val_output_2_loss: 0.5963 - val_output_1_mean_absolute_error: 0.5210 - val_output_2_mean_absolute_error: 0.5728\n",
      "Epoch 3/30\n",
      "363/363 [==============================] - 2s 5ms/step - loss: 0.4897 - output_1_loss: 0.4706 - output_2_loss: 0.5660 - output_1_mean_absolute_error: 0.5008 - output_2_mean_absolute_error: 0.5518 - val_loss: 0.4931 - val_output_1_loss: 0.4675 - val_output_2_loss: 0.5958 - val_output_1_mean_absolute_error: 0.4971 - val_output_2_mean_absolute_error: 0.5621\n",
      "Epoch 4/30\n",
      "363/363 [==============================] - 2s 5ms/step - loss: 0.4649 - output_1_loss: 0.4472 - output_2_loss: 0.5355 - output_1_mean_absolute_error: 0.4857 - output_2_mean_absolute_error: 0.5356 - val_loss: 0.4565 - val_output_1_loss: 0.4386 - val_output_2_loss: 0.5280 - val_output_1_mean_absolute_error: 0.4851 - val_output_2_mean_absolute_error: 0.5405\n",
      "Epoch 5/30\n",
      "363/363 [==============================] - 2s 5ms/step - loss: 0.4537 - output_1_loss: 0.4385 - output_2_loss: 0.5144 - output_1_mean_absolute_error: 0.4777 - output_2_mean_absolute_error: 0.5242 - val_loss: 0.4427 - val_output_1_loss: 0.4271 - val_output_2_loss: 0.5052 - val_output_1_mean_absolute_error: 0.4747 - val_output_2_mean_absolute_error: 0.5262\n",
      "Epoch 6/30\n",
      "363/363 [==============================] - 2s 6ms/step - loss: 0.4335 - output_1_loss: 0.4189 - output_2_loss: 0.4916 - output_1_mean_absolute_error: 0.4696 - output_2_mean_absolute_error: 0.5134 - val_loss: 0.4299 - val_output_1_loss: 0.4141 - val_output_2_loss: 0.4931 - val_output_1_mean_absolute_error: 0.4655 - val_output_2_mean_absolute_error: 0.5182\n",
      "Epoch 7/30\n",
      "363/363 [==============================] - 2s 6ms/step - loss: 0.4627 - output_1_loss: 0.4578 - output_2_loss: 0.4823 - output_1_mean_absolute_error: 0.4678 - output_2_mean_absolute_error: 0.5095 - val_loss: 0.4219 - val_output_1_loss: 0.4072 - val_output_2_loss: 0.4811 - val_output_1_mean_absolute_error: 0.4689 - val_output_2_mean_absolute_error: 0.5172\n",
      "Epoch 8/30\n",
      "363/363 [==============================] - 2s 4ms/step - loss: 0.4182 - output_1_loss: 0.4044 - output_2_loss: 0.4734 - output_1_mean_absolute_error: 0.4597 - output_2_mean_absolute_error: 0.5045 - val_loss: 0.4128 - val_output_1_loss: 0.3979 - val_output_2_loss: 0.4722 - val_output_1_mean_absolute_error: 0.4535 - val_output_2_mean_absolute_error: 0.5058\n",
      "Epoch 9/30\n",
      "363/363 [==============================] - 2s 4ms/step - loss: 0.4100 - output_1_loss: 0.3962 - output_2_loss: 0.4654 - output_1_mean_absolute_error: 0.4549 - output_2_mean_absolute_error: 0.5000 - val_loss: 0.4100 - val_output_1_loss: 0.3953 - val_output_2_loss: 0.4684 - val_output_1_mean_absolute_error: 0.4619 - val_output_2_mean_absolute_error: 0.5131\n",
      "Epoch 10/30\n",
      "363/363 [==============================] - 2s 5ms/step - loss: 0.4100 - output_1_loss: 0.3977 - output_2_loss: 0.4591 - output_1_mean_absolute_error: 0.4534 - output_2_mean_absolute_error: 0.4966 - val_loss: 0.4008 - val_output_1_loss: 0.3867 - val_output_2_loss: 0.4573 - val_output_1_mean_absolute_error: 0.4453 - val_output_2_mean_absolute_error: 0.4948\n",
      "Epoch 11/30\n",
      "363/363 [==============================] - 2s 6ms/step - loss: 0.4038 - output_1_loss: 0.3913 - output_2_loss: 0.4537 - output_1_mean_absolute_error: 0.4499 - output_2_mean_absolute_error: 0.4926 - val_loss: 0.3928 - val_output_1_loss: 0.3783 - val_output_2_loss: 0.4508 - val_output_1_mean_absolute_error: 0.4463 - val_output_2_mean_absolute_error: 0.4979\n",
      "Epoch 12/30\n",
      "363/363 [==============================] - 2s 6ms/step - loss: 0.3958 - output_1_loss: 0.3825 - output_2_loss: 0.4491 - output_1_mean_absolute_error: 0.4465 - output_2_mean_absolute_error: 0.4912 - val_loss: 0.3913 - val_output_1_loss: 0.3766 - val_output_2_loss: 0.4502 - val_output_1_mean_absolute_error: 0.4428 - val_output_2_mean_absolute_error: 0.4931\n",
      "Epoch 13/30\n",
      "363/363 [==============================] - 1s 3ms/step - loss: 0.3939 - output_1_loss: 0.3809 - output_2_loss: 0.4461 - output_1_mean_absolute_error: 0.4448 - output_2_mean_absolute_error: 0.4887 - val_loss: 0.3864 - val_output_1_loss: 0.3724 - val_output_2_loss: 0.4425 - val_output_1_mean_absolute_error: 0.4459 - val_output_2_mean_absolute_error: 0.4948\n",
      "Epoch 14/30\n",
      "363/363 [==============================] - 2s 6ms/step - loss: 0.3922 - output_1_loss: 0.3791 - output_2_loss: 0.4447 - output_1_mean_absolute_error: 0.4437 - output_2_mean_absolute_error: 0.4881 - val_loss: 0.3858 - val_output_1_loss: 0.3717 - val_output_2_loss: 0.4423 - val_output_1_mean_absolute_error: 0.4468 - val_output_2_mean_absolute_error: 0.4956\n",
      "Epoch 15/30\n",
      "363/363 [==============================] - 2s 6ms/step - loss: 0.3910 - output_1_loss: 0.3780 - output_2_loss: 0.4430 - output_1_mean_absolute_error: 0.4423 - output_2_mean_absolute_error: 0.4873 - val_loss: 0.3841 - val_output_1_loss: 0.3701 - val_output_2_loss: 0.4402 - val_output_1_mean_absolute_error: 0.4353 - val_output_2_mean_absolute_error: 0.4837\n",
      "Epoch 16/30\n",
      "363/363 [==============================] - 2s 6ms/step - loss: 0.4410 - output_1_loss: 0.4407 - output_2_loss: 0.4418 - output_1_mean_absolute_error: 0.4448 - output_2_mean_absolute_error: 0.4868 - val_loss: 0.3800 - val_output_1_loss: 0.3651 - val_output_2_loss: 0.4394 - val_output_1_mean_absolute_error: 0.4355 - val_output_2_mean_absolute_error: 0.4907\n",
      "Epoch 17/30\n",
      "363/363 [==============================] - 2s 5ms/step - loss: 0.3916 - output_1_loss: 0.3794 - output_2_loss: 0.4403 - output_1_mean_absolute_error: 0.4409 - output_2_mean_absolute_error: 0.4855 - val_loss: 0.3771 - val_output_1_loss: 0.3628 - val_output_2_loss: 0.4343 - val_output_1_mean_absolute_error: 0.4400 - val_output_2_mean_absolute_error: 0.4904\n",
      "Epoch 18/30\n",
      "363/363 [==============================] - 2s 4ms/step - loss: 0.3854 - output_1_loss: 0.3719 - output_2_loss: 0.4395 - output_1_mean_absolute_error: 0.4389 - output_2_mean_absolute_error: 0.4855 - val_loss: 0.3784 - val_output_1_loss: 0.3644 - val_output_2_loss: 0.4344 - val_output_1_mean_absolute_error: 0.4366 - val_output_2_mean_absolute_error: 0.4858\n",
      "Epoch 19/30\n",
      "363/363 [==============================] - 1s 4ms/step - loss: 0.3835 - output_1_loss: 0.3701 - output_2_loss: 0.4370 - output_1_mean_absolute_error: 0.4383 - output_2_mean_absolute_error: 0.4831 - val_loss: 0.3757 - val_output_1_loss: 0.3615 - val_output_2_loss: 0.4325 - val_output_1_mean_absolute_error: 0.4316 - val_output_2_mean_absolute_error: 0.4816\n",
      "Epoch 20/30\n",
      "363/363 [==============================] - 2s 4ms/step - loss: 0.3837 - output_1_loss: 0.3704 - output_2_loss: 0.4369 - output_1_mean_absolute_error: 0.4372 - output_2_mean_absolute_error: 0.4831 - val_loss: 0.3703 - val_output_1_loss: 0.3562 - val_output_2_loss: 0.4268 - val_output_1_mean_absolute_error: 0.4316 - val_output_2_mean_absolute_error: 0.4820\n",
      "Epoch 21/30\n",
      "363/363 [==============================] - 2s 6ms/step - loss: 0.3801 - output_1_loss: 0.3666 - output_2_loss: 0.4339 - output_1_mean_absolute_error: 0.4352 - output_2_mean_absolute_error: 0.4823 - val_loss: 0.3740 - val_output_1_loss: 0.3588 - val_output_2_loss: 0.4349 - val_output_1_mean_absolute_error: 0.4392 - val_output_2_mean_absolute_error: 0.4968\n",
      "Epoch 22/30\n",
      "363/363 [==============================] - 2s 6ms/step - loss: 0.3836 - output_1_loss: 0.3710 - output_2_loss: 0.4341 - output_1_mean_absolute_error: 0.4358 - output_2_mean_absolute_error: 0.4822 - val_loss: 0.3700 - val_output_1_loss: 0.3557 - val_output_2_loss: 0.4274 - val_output_1_mean_absolute_error: 0.4320 - val_output_2_mean_absolute_error: 0.4830\n",
      "Epoch 23/30\n"
     ]
    },
    {
     "name": "stdout",
     "output_type": "stream",
     "text": [
      "363/363 [==============================] - 2s 4ms/step - loss: 0.3822 - output_1_loss: 0.3690 - output_2_loss: 0.4349 - output_1_mean_absolute_error: 0.4363 - output_2_mean_absolute_error: 0.4825 - val_loss: 0.3718 - val_output_1_loss: 0.3568 - val_output_2_loss: 0.4319 - val_output_1_mean_absolute_error: 0.4337 - val_output_2_mean_absolute_error: 0.4874\n",
      "Epoch 24/30\n",
      "363/363 [==============================] - 2s 5ms/step - loss: 0.3784 - output_1_loss: 0.3649 - output_2_loss: 0.4327 - output_1_mean_absolute_error: 0.4352 - output_2_mean_absolute_error: 0.4816 - val_loss: 0.3681 - val_output_1_loss: 0.3538 - val_output_2_loss: 0.4253 - val_output_1_mean_absolute_error: 0.4304 - val_output_2_mean_absolute_error: 0.4823\n",
      "Epoch 25/30\n",
      "363/363 [==============================] - 1s 3ms/step - loss: 0.3770 - output_1_loss: 0.3634 - output_2_loss: 0.4313 - output_1_mean_absolute_error: 0.4334 - output_2_mean_absolute_error: 0.4809 - val_loss: 0.3717 - val_output_1_loss: 0.3574 - val_output_2_loss: 0.4288 - val_output_1_mean_absolute_error: 0.4321 - val_output_2_mean_absolute_error: 0.4816\n",
      "Epoch 26/30\n",
      "363/363 [==============================] - 1s 3ms/step - loss: 0.3770 - output_1_loss: 0.3634 - output_2_loss: 0.4314 - output_1_mean_absolute_error: 0.4328 - output_2_mean_absolute_error: 0.4803 - val_loss: 0.3659 - val_output_1_loss: 0.3509 - val_output_2_loss: 0.4263 - val_output_1_mean_absolute_error: 0.4313 - val_output_2_mean_absolute_error: 0.4864\n",
      "Epoch 27/30\n",
      "363/363 [==============================] - 2s 4ms/step - loss: 0.3748 - output_1_loss: 0.3607 - output_2_loss: 0.4311 - output_1_mean_absolute_error: 0.4326 - output_2_mean_absolute_error: 0.4807 - val_loss: 0.3811 - val_output_1_loss: 0.3658 - val_output_2_loss: 0.4420 - val_output_1_mean_absolute_error: 0.4442 - val_output_2_mean_absolute_error: 0.4997\n",
      "Epoch 28/30\n",
      "363/363 [==============================] - 2s 4ms/step - loss: 0.3779 - output_1_loss: 0.3648 - output_2_loss: 0.4303 - output_1_mean_absolute_error: 0.4330 - output_2_mean_absolute_error: 0.4791 - val_loss: 0.3683 - val_output_1_loss: 0.3532 - val_output_2_loss: 0.4291 - val_output_1_mean_absolute_error: 0.4291 - val_output_2_mean_absolute_error: 0.4812\n",
      "Epoch 29/30\n",
      "363/363 [==============================] - 2s 4ms/step - loss: 0.4471 - output_1_loss: 0.4505 - output_2_loss: 0.4334 - output_1_mean_absolute_error: 0.4392 - output_2_mean_absolute_error: 0.4815 - val_loss: 0.3690 - val_output_1_loss: 0.3549 - val_output_2_loss: 0.4254 - val_output_1_mean_absolute_error: 0.4310 - val_output_2_mean_absolute_error: 0.4875\n",
      "Epoch 30/30\n",
      "363/363 [==============================] - 2s 5ms/step - loss: 0.3781 - output_1_loss: 0.3637 - output_2_loss: 0.4358 - output_1_mean_absolute_error: 0.4326 - output_2_mean_absolute_error: 0.4839 - val_loss: 0.3803 - val_output_1_loss: 0.3658 - val_output_2_loss: 0.4384 - val_output_1_mean_absolute_error: 0.4450 - val_output_2_mean_absolute_error: 0.4965\n"
     ]
    },
    {
     "data": {
      "text/plain": [
       "<keras.src.callbacks.History at 0x2031d2e9a50>"
      ]
     },
     "execution_count": 119,
     "metadata": {},
     "output_type": "execute_result"
    }
   ],
   "source": [
    "model_sub.fit((X_train_s_1, X_train_s_2), (y_train1, y_train1), epochs=30,\n",
    "          validation_data=((X_validation_s_1, X_validation_s_2),\n",
    "                           (y_validation, y_validation)))"
   ]
  },
  {
   "cell_type": "code",
   "execution_count": 120,
   "id": "f97638ca-6e2c-4f44-b174-152ec8d1e5ec",
   "metadata": {},
   "outputs": [
    {
     "name": "stdout",
     "output_type": "stream",
     "text": [
      "Model: \"model_6\"\n",
      "__________________________________________________________________________________________________\n",
      " Layer (type)                Output Shape                 Param #   Connected to                  \n",
      "==================================================================================================\n",
      " input_10 (InputLayer)       [(None, 6)]                  0         []                            \n",
      "                                                                                                  \n",
      " dense_35 (Dense)            (None, 50)                   350       ['input_10[0][0]']            \n",
      "                                                                                                  \n",
      " input_11 (InputLayer)       [(None, 4)]                  0         []                            \n",
      "                                                                                                  \n",
      " dense_36 (Dense)            (None, 10)                   510       ['dense_35[0][0]']            \n",
      "                                                                                                  \n",
      " concatenate_6 (Concatenate  (None, 14)                   0         ['input_11[0][0]',            \n",
      " )                                                                   'dense_36[0][0]']            \n",
      "                                                                                                  \n",
      " output (Dense)              (None, 1)                    15        ['concatenate_6[0][0]']       \n",
      "                                                                                                  \n",
      " helper_output (Dense)       (None, 1)                    11        ['dense_36[0][0]']            \n",
      "                                                                                                  \n",
      "==================================================================================================\n",
      "Total params: 886 (3.46 KB)\n",
      "Trainable params: 886 (3.46 KB)\n",
      "Non-trainable params: 0 (0.00 Byte)\n",
      "__________________________________________________________________________________________________\n"
     ]
    }
   ],
   "source": [
    "model_f.summary()"
   ]
  },
  {
   "cell_type": "code",
   "execution_count": 122,
   "id": "a3a37955-f8d8-48d0-906c-1b62e1a7408f",
   "metadata": {},
   "outputs": [],
   "source": [
    "model_f.save(\"housing_reg_model_f.h5\")"
   ]
  },
  {
   "cell_type": "code",
   "execution_count": 123,
   "id": "460e9aa1-c729-4a4c-a4d3-9977c28bac97",
   "metadata": {},
   "outputs": [],
   "source": [
    "model_f_reg = keras.models.load_model(\"housing_reg_model_f.h5\")"
   ]
  },
  {
   "cell_type": "code",
   "execution_count": 124,
   "id": "7ee73efc-6f07-4ae8-b4cc-a449988a9911",
   "metadata": {},
   "outputs": [
    {
     "name": "stdout",
     "output_type": "stream",
     "text": [
      "Model: \"model_6\"\n",
      "__________________________________________________________________________________________________\n",
      " Layer (type)                Output Shape                 Param #   Connected to                  \n",
      "==================================================================================================\n",
      " input_10 (InputLayer)       [(None, 6)]                  0         []                            \n",
      "                                                                                                  \n",
      " dense_35 (Dense)            (None, 50)                   350       ['input_10[0][0]']            \n",
      "                                                                                                  \n",
      " input_11 (InputLayer)       [(None, 4)]                  0         []                            \n",
      "                                                                                                  \n",
      " dense_36 (Dense)            (None, 10)                   510       ['dense_35[0][0]']            \n",
      "                                                                                                  \n",
      " concatenate_6 (Concatenate  (None, 14)                   0         ['input_11[0][0]',            \n",
      " )                                                                   'dense_36[0][0]']            \n",
      "                                                                                                  \n",
      " output (Dense)              (None, 1)                    15        ['concatenate_6[0][0]']       \n",
      "                                                                                                  \n",
      " helper_output (Dense)       (None, 1)                    11        ['dense_36[0][0]']            \n",
      "                                                                                                  \n",
      "==================================================================================================\n",
      "Total params: 886 (3.46 KB)\n",
      "Trainable params: 886 (3.46 KB)\n",
      "Non-trainable params: 0 (0.00 Byte)\n",
      "__________________________________________________________________________________________________\n"
     ]
    }
   ],
   "source": [
    "model_f_reg.summary()"
   ]
  },
  {
   "cell_type": "code",
   "execution_count": 125,
   "id": "301dfbab-3be3-46e8-b9aa-86e2a07401af",
   "metadata": {},
   "outputs": [
    {
     "name": "stdout",
     "output_type": "stream",
     "text": [
      "Model: \"wide_and_deep_ann\"\n",
      "_________________________________________________________________\n",
      " Layer (type)                Output Shape              Param #   \n",
      "=================================================================\n",
      " dense_37 (Dense)            multiple                  350       \n",
      "                                                                 \n",
      " dense_38 (Dense)            multiple                  510       \n",
      "                                                                 \n",
      " dense_39 (Dense)            multiple                  15        \n",
      "                                                                 \n",
      " dense_40 (Dense)            multiple                  11        \n",
      "                                                                 \n",
      "=================================================================\n",
      "Total params: 886 (3.46 KB)\n",
      "Trainable params: 886 (3.46 KB)\n",
      "Non-trainable params: 0 (0.00 Byte)\n",
      "_________________________________________________________________\n"
     ]
    }
   ],
   "source": [
    "model_sub.summary()"
   ]
  },
  {
   "cell_type": "code",
   "execution_count": 127,
   "id": "1be43627-78cf-4e53-a8f2-737107adc321",
   "metadata": {},
   "outputs": [
    {
     "ename": "NotImplementedError",
     "evalue": "Saving the model to HDF5 format requires the model to be a Functional model or a Sequential model. It does not work for subclassed models, because such models are defined via the body of a Python method, which isn't safely serializable. Consider saving to the Tensorflow SavedModel format (by setting save_format=\"tf\") or using `save_weights`.",
     "output_type": "error",
     "traceback": [
      "\u001b[1;31m---------------------------------------------------------------------------\u001b[0m",
      "\u001b[1;31mNotImplementedError\u001b[0m                       Traceback (most recent call last)",
      "Cell \u001b[1;32mIn[127], line 2\u001b[0m\n\u001b[0;32m      1\u001b[0m \u001b[38;5;66;03m# we can not save the subclass we can save the wieghts\u001b[39;00m\n\u001b[1;32m----> 2\u001b[0m \u001b[43mmodel_sub\u001b[49m\u001b[38;5;241;43m.\u001b[39;49m\u001b[43msave\u001b[49m\u001b[43m(\u001b[49m\u001b[38;5;124;43m\"\u001b[39;49m\u001b[38;5;124;43mhousing_reg_model_sub.h5\u001b[39;49m\u001b[38;5;124;43m\"\u001b[39;49m\u001b[43m)\u001b[49m\n",
      "File \u001b[1;32m~\\anaconda3\\lib\\site-packages\\keras\\src\\utils\\traceback_utils.py:70\u001b[0m, in \u001b[0;36mfilter_traceback.<locals>.error_handler\u001b[1;34m(*args, **kwargs)\u001b[0m\n\u001b[0;32m     67\u001b[0m     filtered_tb \u001b[38;5;241m=\u001b[39m _process_traceback_frames(e\u001b[38;5;241m.\u001b[39m__traceback__)\n\u001b[0;32m     68\u001b[0m     \u001b[38;5;66;03m# To get the full stack trace, call:\u001b[39;00m\n\u001b[0;32m     69\u001b[0m     \u001b[38;5;66;03m# `tf.debugging.disable_traceback_filtering()`\u001b[39;00m\n\u001b[1;32m---> 70\u001b[0m     \u001b[38;5;28;01mraise\u001b[39;00m e\u001b[38;5;241m.\u001b[39mwith_traceback(filtered_tb) \u001b[38;5;28;01mfrom\u001b[39;00m \u001b[38;5;28mNone\u001b[39m\n\u001b[0;32m     71\u001b[0m \u001b[38;5;28;01mfinally\u001b[39;00m:\n\u001b[0;32m     72\u001b[0m     \u001b[38;5;28;01mdel\u001b[39;00m filtered_tb\n",
      "File \u001b[1;32m~\\anaconda3\\lib\\site-packages\\keras\\src\\saving\\legacy\\save.py:152\u001b[0m, in \u001b[0;36msave_model\u001b[1;34m(model, filepath, overwrite, include_optimizer, save_format, signatures, options, save_traces)\u001b[0m\n\u001b[0;32m    143\u001b[0m \u001b[38;5;28;01mif\u001b[39;00m (\n\u001b[0;32m    144\u001b[0m     save_format \u001b[38;5;241m==\u001b[39m \u001b[38;5;124m\"\u001b[39m\u001b[38;5;124mh5\u001b[39m\u001b[38;5;124m\"\u001b[39m\n\u001b[0;32m    145\u001b[0m     \u001b[38;5;129;01mor\u001b[39;00m (h5py \u001b[38;5;129;01mis\u001b[39;00m \u001b[38;5;129;01mnot\u001b[39;00m \u001b[38;5;28;01mNone\u001b[39;00m \u001b[38;5;129;01mand\u001b[39;00m \u001b[38;5;28misinstance\u001b[39m(filepath, h5py\u001b[38;5;241m.\u001b[39mFile))\n\u001b[0;32m    146\u001b[0m     \u001b[38;5;129;01mor\u001b[39;00m saving_utils\u001b[38;5;241m.\u001b[39mis_hdf5_filepath(filepath)\n\u001b[0;32m    147\u001b[0m ):\n\u001b[0;32m    148\u001b[0m     \u001b[38;5;66;03m# TODO(b/130258301): add utility method for detecting model type.\u001b[39;00m\n\u001b[0;32m    149\u001b[0m     \u001b[38;5;28;01mif\u001b[39;00m \u001b[38;5;129;01mnot\u001b[39;00m model\u001b[38;5;241m.\u001b[39m_is_graph_network \u001b[38;5;129;01mand\u001b[39;00m \u001b[38;5;129;01mnot\u001b[39;00m \u001b[38;5;28misinstance\u001b[39m(\n\u001b[0;32m    150\u001b[0m         model, sequential\u001b[38;5;241m.\u001b[39mSequential\n\u001b[0;32m    151\u001b[0m     ):\n\u001b[1;32m--> 152\u001b[0m         \u001b[38;5;28;01mraise\u001b[39;00m \u001b[38;5;167;01mNotImplementedError\u001b[39;00m(\n\u001b[0;32m    153\u001b[0m             \u001b[38;5;124m\"\u001b[39m\u001b[38;5;124mSaving the model to HDF5 format requires the model to be a \u001b[39m\u001b[38;5;124m\"\u001b[39m\n\u001b[0;32m    154\u001b[0m             \u001b[38;5;124m\"\u001b[39m\u001b[38;5;124mFunctional model or a Sequential model. It does not work for \u001b[39m\u001b[38;5;124m\"\u001b[39m\n\u001b[0;32m    155\u001b[0m             \u001b[38;5;124m\"\u001b[39m\u001b[38;5;124msubclassed models, because such models are defined via the \u001b[39m\u001b[38;5;124m\"\u001b[39m\n\u001b[0;32m    156\u001b[0m             \u001b[38;5;124m\"\u001b[39m\u001b[38;5;124mbody of a Python method, which isn\u001b[39m\u001b[38;5;124m'\u001b[39m\u001b[38;5;124mt safely serializable. \u001b[39m\u001b[38;5;124m\"\u001b[39m\n\u001b[0;32m    157\u001b[0m             \u001b[38;5;124m\"\u001b[39m\u001b[38;5;124mConsider saving to the Tensorflow SavedModel format (by \u001b[39m\u001b[38;5;124m\"\u001b[39m\n\u001b[0;32m    158\u001b[0m             \u001b[38;5;124m'\u001b[39m\u001b[38;5;124msetting save_format=\u001b[39m\u001b[38;5;124m\"\u001b[39m\u001b[38;5;124mtf\u001b[39m\u001b[38;5;124m\"\u001b[39m\u001b[38;5;124m) or using `save_weights`.\u001b[39m\u001b[38;5;124m'\u001b[39m\n\u001b[0;32m    159\u001b[0m         )\n\u001b[0;32m    160\u001b[0m     hdf5_format\u001b[38;5;241m.\u001b[39msave_model_to_hdf5(\n\u001b[0;32m    161\u001b[0m         model, filepath, overwrite, include_optimizer\n\u001b[0;32m    162\u001b[0m     )\n\u001b[0;32m    163\u001b[0m \u001b[38;5;28;01melse\u001b[39;00m:\n",
      "\u001b[1;31mNotImplementedError\u001b[0m: Saving the model to HDF5 format requires the model to be a Functional model or a Sequential model. It does not work for subclassed models, because such models are defined via the body of a Python method, which isn't safely serializable. Consider saving to the Tensorflow SavedModel format (by setting save_format=\"tf\") or using `save_weights`."
     ]
    }
   ],
   "source": [
    "# we can not save the subclass we can save the wieghts\n",
    "model_sub.save(\"housing_reg_model_sub.h5\")\n",
    "#.save_weight()"
   ]
  },
  {
   "cell_type": "markdown",
   "id": "6ee95e19-cfda-407f-bc9b-ee899641c635",
   "metadata": {},
   "source": [
    "# Callback"
   ]
  },
  {
   "cell_type": "code",
   "execution_count": 13,
   "id": "6f3c7546-865a-4cc5-894c-a23f036ef7c5",
   "metadata": {},
   "outputs": [],
   "source": [
    "model_checkpoint_callback = keras.callbacks.ModelCheckpoint(\"model_cb_reg_housing.h5\",\n",
    "                                                         save_best_only=True)\n",
    "earlystopping_callback = keras.callbacks.EarlyStopping(patience=5,\n",
    "                             restore_best_weights=True)"
   ]
  },
  {
   "cell_type": "code",
   "execution_count": 22,
   "id": "238c2921-4916-493b-8d96-1dff48511618",
   "metadata": {},
   "outputs": [
    {
     "name": "stdout",
     "output_type": "stream",
     "text": [
      "Train on 11610 samples, validate on 3870 samples\n",
      "Epoch 1/5\n",
      "11610/11610 [==============================] - 1s 54us/sample - loss: 0.3737 - output_loss: 0.3601 - helper_output_loss: 0.4279 - output_mean_absolute_error: 0.4271 - helper_output_mean_absolute_error: 0.4773 - val_loss: 0.5419 - val_output_loss: 0.5688 - val_helper_output_loss: 0.4343 - val_output_mean_absolute_error: 0.4314 - val_helper_output_mean_absolute_error: 0.4714\n",
      "Epoch 2/5\n",
      "11610/11610 [==============================] - 1s 53us/sample - loss: 0.5013 - output_loss: 0.5196 - helper_output_loss: 0.4278 - output_mean_absolute_error: 0.4326 - helper_output_mean_absolute_error: 0.4776 - val_loss: 0.5023 - val_output_loss: 0.5214 - val_helper_output_loss: 0.4258 - val_output_mean_absolute_error: 0.4257 - val_helper_output_mean_absolute_error: 0.4720\n",
      "Epoch 3/5\n",
      "11610/11610 [==============================] - 1s 60us/sample - loss: 0.6026 - output_loss: 0.6464 - helper_output_loss: 0.4268 - output_mean_absolute_error: 0.4341 - helper_output_mean_absolute_error: 0.4767 - val_loss: 0.4884 - val_output_loss: 0.5036 - val_helper_output_loss: 0.4277 - val_output_mean_absolute_error: 0.4292 - val_helper_output_mean_absolute_error: 0.4722\n",
      "Epoch 4/5\n",
      "11610/11610 [==============================] - 1s 54us/sample - loss: 0.4867 - output_loss: 0.5020 - helper_output_loss: 0.4252 - output_mean_absolute_error: 0.4327 - helper_output_mean_absolute_error: 0.4767 - val_loss: 0.4669 - val_output_loss: 0.4772 - val_helper_output_loss: 0.4258 - val_output_mean_absolute_error: 0.4257 - val_helper_output_mean_absolute_error: 0.4748\n",
      "Epoch 5/5\n",
      "11610/11610 [==============================] - 1s 57us/sample - loss: 0.5335 - output_loss: 0.5601 - helper_output_loss: 0.4269 - output_mean_absolute_error: 0.4347 - helper_output_mean_absolute_error: 0.4765 - val_loss: 0.4468 - val_output_loss: 0.4520 - val_helper_output_loss: 0.4259 - val_output_mean_absolute_error: 0.4264 - val_helper_output_mean_absolute_error: 0.4714\n"
     ]
    },
    {
     "data": {
      "text/plain": [
       "<tensorflow.python.keras.callbacks.History at 0x7fefd0491a90>"
      ]
     },
     "execution_count": 22,
     "metadata": {},
     "output_type": "execute_result"
    }
   ],
   "source": [
    "model_f.fit((X_train_s_1, X_train_s_2), (y_train1, y_train1), epochs=5,\n",
    "          validation_data=((X_validation_s_1, X_validation_s_2),\n",
    "                           (y_validation, y_validation)),\n",
    "           callbacks=[model_checkpoint_callback, earlystopping_callback])"
   ]
  },
  {
   "cell_type": "code",
   "execution_count": 39,
   "id": "c007c150-ba90-48ec-8f67-497d8c785d73",
   "metadata": {},
   "outputs": [],
   "source": [
    "class MyCallback(keras.callbacks.Callback):\n",
    "    def on_train_end(self, logs=None):\n",
    "        print(\"\")\n",
    "    def on_epoch_end(self, epoch, logs):\n",
    "        print(logs[\"val_loss\"])"
   ]
  },
  {
   "cell_type": "code",
   "execution_count": 40,
   "id": "5fbd577a-bc4b-4960-b56d-0f6779e932db",
   "metadata": {},
   "outputs": [],
   "source": [
    "mycb = MyCallback()"
   ]
  },
  {
   "cell_type": "code",
   "execution_count": 41,
   "id": "f2d3f1b1-4875-46a3-b83b-32d8e80572ac",
   "metadata": {},
   "outputs": [],
   "source": [
    "tb_callback = keras.callbacks.TensorBoard(\"tb_log\")"
   ]
  },
  {
   "cell_type": "code",
   "execution_count": 25,
   "id": "65d7654b-bc7d-42bd-a7af-4ba7ea9812ce",
   "metadata": {},
   "outputs": [
    {
     "name": "stdout",
     "output_type": "stream",
     "text": [
      "Train on 11610 samples, validate on 3870 samples\n",
      "Epoch 1/5\n",
      " 5056/11610 [============>.................] - ETA: 0s - loss: 0.3695 - output_loss: 0.3553 - helper_output_loss: 0.4262 - output_mean_absolute_error: 0.4270 - helper_output_mean_absolute_error: 0.4764"
     ]
    },
    {
     "name": "stderr",
     "output_type": "stream",
     "text": [
      "2021-12-07 06:55:25.766564: I tensorflow/core/profiler/lib/profiler_session.cc:184] Profiler session started.\n"
     ]
    },
    {
     "name": "stdout",
     "output_type": "stream",
     "text": [
      "11610/11610 [==============================] - 1s 53us/sample - loss: 0.3706 - output_loss: 0.3571 - helper_output_loss: 0.4245 - output_mean_absolute_error: 0.4251 - helper_output_mean_absolute_error: 0.4751 - val_loss: 0.3793 - val_output_loss: 0.3668 - val_helper_output_loss: 0.4293 - val_output_mean_absolute_error: 0.4233 - val_helper_output_mean_absolute_error: 0.4743\n",
      "Epoch 2/5\n",
      "11610/11610 [==============================] - 1s 49us/sample - loss: 0.3789 - output_loss: 0.3676 - helper_output_loss: 0.4241 - output_mean_absolute_error: 0.4247 - helper_output_mean_absolute_error: 0.4744 - val_loss: 0.3784 - val_output_loss: 0.3661 - val_helper_output_loss: 0.4279 - val_output_mean_absolute_error: 0.4235 - val_helper_output_mean_absolute_error: 0.4732\n",
      "Epoch 3/5\n",
      "11610/11610 [==============================] - 1s 60us/sample - loss: 0.3654 - output_loss: 0.3508 - helper_output_loss: 0.4235 - output_mean_absolute_error: 0.4232 - helper_output_mean_absolute_error: 0.4742 - val_loss: 0.3703 - val_output_loss: 0.3570 - val_helper_output_loss: 0.4237 - val_output_mean_absolute_error: 0.4192 - val_helper_output_mean_absolute_error: 0.4707\n",
      "Epoch 4/5\n",
      "11610/11610 [==============================] - 1s 72us/sample - loss: 0.3632 - output_loss: 0.3484 - helper_output_loss: 0.4221 - output_mean_absolute_error: 0.4227 - helper_output_mean_absolute_error: 0.4738 - val_loss: 0.3698 - val_output_loss: 0.3567 - val_helper_output_loss: 0.4225 - val_output_mean_absolute_error: 0.4191 - val_helper_output_mean_absolute_error: 0.4713\n",
      "Epoch 5/5\n",
      "11610/11610 [==============================] - 1s 56us/sample - loss: 0.3758 - output_loss: 0.3641 - helper_output_loss: 0.4227 - output_mean_absolute_error: 0.4243 - helper_output_mean_absolute_error: 0.4739 - val_loss: 0.3713 - val_output_loss: 0.3590 - val_helper_output_loss: 0.4206 - val_output_mean_absolute_error: 0.4179 - val_helper_output_mean_absolute_error: 0.4693\n"
     ]
    },
    {
     "data": {
      "text/plain": [
       "<tensorflow.python.keras.callbacks.History at 0x7fefc91eca10>"
      ]
     },
     "execution_count": 25,
     "metadata": {},
     "output_type": "execute_result"
    }
   ],
   "source": [
    "model_f.fit((X_train_s_1, X_train_s_2), (y_train1, y_train1), epochs=5,\n",
    "          validation_data=((X_validation_s_1, X_validation_s_2),\n",
    "                           (y_validation, y_validation)),\n",
    "           callbacks=[tb_callback])"
   ]
  },
  {
   "cell_type": "code",
   "execution_count": 26,
   "id": "b8675c62-a3f0-485d-b277-c6a66002858c",
   "metadata": {},
   "outputs": [],
   "source": [
    "%load_ext tensorboard"
   ]
  },
  {
   "cell_type": "code",
   "execution_count": 27,
   "id": "89bdb56a-35b8-494b-8abb-a2de647f0842",
   "metadata": {},
   "outputs": [
    {
     "data": {
      "text/html": [
       "\n",
       "      <iframe id=\"tensorboard-frame-b074a6f3c7770264\" width=\"100%\" height=\"800\" frameborder=\"0\">\n",
       "      </iframe>\n",
       "      <script>\n",
       "        (function() {\n",
       "          const frame = document.getElementById(\"tensorboard-frame-b074a6f3c7770264\");\n",
       "          const url = new URL(\"/\", window.location);\n",
       "          url.port = 6006;\n",
       "          frame.src = url;\n",
       "        })();\n",
       "      </script>\n",
       "  "
      ],
      "text/plain": [
       "<IPython.core.display.HTML object>"
      ]
     },
     "metadata": {},
     "output_type": "display_data"
    }
   ],
   "source": [
    "%tensorboard --logdir=./tb_log "
   ]
  },
  {
   "cell_type": "markdown",
   "id": "ae121f1f-d774-47a8-88e3-b30aa1691001",
   "metadata": {},
   "source": [
    "# Hyperparameter optimization"
   ]
  },
  {
   "cell_type": "code",
   "execution_count": 46,
   "id": "1b8c38fe-c7b5-4ddc-9a31-744b08d75f75",
   "metadata": {},
   "outputs": [],
   "source": [
    "def ann_model(number_of_hidden_layers=1,\n",
    "              number_of_neurons=50,\n",
    "              lr=0.01):\n",
    "    model = keras.models.Sequential()\n",
    "    model.add(keras.layers.InputLayer(input_shape=[8]))\n",
    "    for hidden_layer in range(number_of_hidden_layers):\n",
    "        model.add(keras.layers.Dense(number_of_neurons, activation=\"selu\"))\n",
    "    model.add(keras.layers.Dense(1))\n",
    "    sgd = keras.optimizers.SGD(lr=lr)\n",
    "    model.compile(loss=\"mse\", optimizer=sgd)\n",
    "    return model"
   ]
  },
  {
   "cell_type": "code",
   "execution_count": 47,
   "id": "30bec764-e920-4581-8165-fbcdc6c03b2d",
   "metadata": {},
   "outputs": [],
   "source": [
    "keras_sk_reg = keras.wrappers.scikit_learn.KerasRegressor(build_fn=ann_model)"
   ]
  },
  {
   "cell_type": "code",
   "execution_count": 48,
   "id": "c41342e2-213c-4016-bfcf-ab366cd9b7b9",
   "metadata": {},
   "outputs": [],
   "source": [
    "param_grid = {\"number_of_hidden_layers\":[1, 3, 5],\n",
    "              \"number_of_neurons\":[50, 100, 150],\n",
    "              \"lr\":[0.001, 0.001, 0.1]}"
   ]
  },
  {
   "cell_type": "code",
   "execution_count": 53,
   "id": "c1f60017-9f4a-4098-895d-35558c581e5f",
   "metadata": {},
   "outputs": [],
   "source": [
    "keras_sk_reg_gs = GridSearchCV(keras_sk_reg, param_grid)"
   ]
  },
  {
   "cell_type": "code",
   "execution_count": null,
   "id": "21b31636-9e51-4fa5-9273-85ab9a2517c7",
   "metadata": {},
   "outputs": [],
   "source": [
    "keras_sk_reg_gs.fit(X_train_s, y_train1, epochs=10,\n",
    "                    validation_data=(X_validation, y_validation),\n",
    "                    callbacks=[keras.callbacks.EarlyStopping(patience=5)])"
   ]
  }
 ],
 "metadata": {
  "kernelspec": {
   "display_name": "Python 3 (ipykernel)",
   "language": "python",
   "name": "python3"
  },
  "language_info": {
   "codemirror_mode": {
    "name": "ipython",
    "version": 3
   },
   "file_extension": ".py",
   "mimetype": "text/x-python",
   "name": "python",
   "nbconvert_exporter": "python",
   "pygments_lexer": "ipython3",
   "version": "3.10.9"
  }
 },
 "nbformat": 4,
 "nbformat_minor": 5
}
